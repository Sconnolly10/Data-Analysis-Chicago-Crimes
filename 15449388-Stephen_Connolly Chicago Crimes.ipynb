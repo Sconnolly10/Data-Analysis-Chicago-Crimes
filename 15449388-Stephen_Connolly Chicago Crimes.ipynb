{
 "cells": [
  {
   "cell_type": "markdown",
   "metadata": {},
   "source": [
    "# Data Science in Python Project - Chicago Crimes 2001 - Present"
   ]
  },
  {
   "cell_type": "markdown",
   "metadata": {},
   "source": [
    "This project uses the Chicago Crimes dataset. \n",
    "Name: Stephen Connolly\n",
    "Student Number:15449388"
   ]
  },
  {
   "cell_type": "markdown",
   "metadata": {},
   "source": [
    "NOTE: Dataset is extremely large(over 1.4 million entries) so Moodle would not accept the file as it was too big. I have included the first 100 lines but for my visualisations to be efficient they will require the full dataset"
   ]
  },
  {
   "cell_type": "markdown",
   "metadata": {},
   "source": [
    "Link to dataset : https://data.cityofchicago.org/Public-Safety/Crimes-2001-to-present/ijzp-q8t2/data"
   ]
  },
  {
   "cell_type": "markdown",
   "metadata": {},
   "source": [
    "Data Collection"
   ]
  },
  {
   "cell_type": "code",
   "execution_count": 4,
   "metadata": {
    "collapsed": true
   },
   "outputs": [],
   "source": [
    "import datetime\n",
    "import os.path\n",
    "import pandas as pd\n",
    "import numpy as np\n",
    "import matplotlib.pyplot as plt\n",
    "%matplotlib inline"
   ]
  },
  {
   "cell_type": "markdown",
   "metadata": {},
   "source": [
    "These cells will need the file paths to be modified as this path is unique to the machine on which the code was developed"
   ]
  },
  {
   "cell_type": "code",
   "execution_count": 5,
   "metadata": {},
   "outputs": [],
   "source": [
    "# Ensure the file exists\n",
    "if not os.path.exists( \"/Users/Stephen/3rdYear/DS - Semester 2 2018/COMP30760 - DS in Python/Assignment 1/Chicago_Crimes.csv\" ):\n",
    "    print(\"Missing dataset file\")"
   ]
  },
  {
   "cell_type": "code",
   "execution_count": 7,
   "metadata": {},
   "outputs": [],
   "source": [
    "df_full = pd.read_csv( \"/Users/Stephen/3rdYear/DS - Semester 2 2018/COMP30760 - DS in Python/Assignment 1/Chicago_Crimes.csv\" )"
   ]
  },
  {
   "cell_type": "code",
   "execution_count": 8,
   "metadata": {},
   "outputs": [
    {
     "name": "stdout",
     "output_type": "stream",
     "text": [
      "<class 'pandas.core.frame.DataFrame'>\n",
      "RangeIndex: 1048575 entries, 0 to 1048574\n",
      "Data columns (total 22 columns):\n",
      "ID                      1048575 non-null int64\n",
      "Case Number             1048575 non-null object\n",
      "Date                    1048575 non-null object\n",
      "Block                   1048575 non-null object\n",
      "IUCR                    1048575 non-null object\n",
      "Primary Type            1048575 non-null object\n",
      "Description             1048575 non-null object\n",
      "Location Description    1047313 non-null object\n",
      "Arrest                  1048575 non-null bool\n",
      "Domestic                1048575 non-null bool\n",
      "Beat                    1048575 non-null int64\n",
      "District                1048574 non-null float64\n",
      "Ward                    921473 non-null float64\n",
      "Community Area          921363 non-null float64\n",
      "FBI Code                1048575 non-null object\n",
      "X Coordinate            1022397 non-null float64\n",
      "Y Coordinate            744579 non-null float64\n",
      "Year                    1048575 non-null int64\n",
      "Updated On              1048575 non-null object\n",
      "Latitude                744579 non-null float64\n",
      "Longitude               744579 non-null float64\n",
      "Location                744579 non-null object\n",
      "dtypes: bool(2), float64(7), int64(3), object(10)\n",
      "memory usage: 162.0+ MB\n"
     ]
    }
   ],
   "source": [
    "df_full.info()"
   ]
  },
  {
   "cell_type": "code",
   "execution_count": 9,
   "metadata": {},
   "outputs": [
    {
     "data": {
      "text/plain": [
       "ID                           0\n",
       "Case Number                  0\n",
       "Date                         0\n",
       "Block                        0\n",
       "IUCR                         0\n",
       "Primary Type                 0\n",
       "Description                  0\n",
       "Location Description      1262\n",
       "Arrest                       0\n",
       "Domestic                     0\n",
       "Beat                         0\n",
       "District                     1\n",
       "Ward                    127102\n",
       "Community Area          127212\n",
       "FBI Code                     0\n",
       "X Coordinate             26178\n",
       "Y Coordinate            303996\n",
       "Year                         0\n",
       "Updated On                   0\n",
       "Latitude                303996\n",
       "Longitude               303996\n",
       "Location                303996\n",
       "dtype: int64"
      ]
     },
     "execution_count": 9,
     "metadata": {},
     "output_type": "execute_result"
    }
   ],
   "source": [
    "df_full.isnull().sum()"
   ]
  },
  {
   "cell_type": "code",
   "execution_count": 10,
   "metadata": {},
   "outputs": [
    {
     "data": {
      "text/html": [
       "<div>\n",
       "<style>\n",
       "    .dataframe thead tr:only-child th {\n",
       "        text-align: right;\n",
       "    }\n",
       "\n",
       "    .dataframe thead th {\n",
       "        text-align: left;\n",
       "    }\n",
       "\n",
       "    .dataframe tbody tr th {\n",
       "        vertical-align: top;\n",
       "    }\n",
       "</style>\n",
       "<table border=\"1\" class=\"dataframe\">\n",
       "  <thead>\n",
       "    <tr style=\"text-align: right;\">\n",
       "      <th></th>\n",
       "      <th>ID</th>\n",
       "      <th>Case Number</th>\n",
       "      <th>Date</th>\n",
       "      <th>Block</th>\n",
       "      <th>IUCR</th>\n",
       "      <th>Primary Type</th>\n",
       "      <th>Description</th>\n",
       "      <th>Location Description</th>\n",
       "      <th>Arrest</th>\n",
       "      <th>Domestic</th>\n",
       "      <th>...</th>\n",
       "      <th>Ward</th>\n",
       "      <th>Community Area</th>\n",
       "      <th>FBI Code</th>\n",
       "      <th>X Coordinate</th>\n",
       "      <th>Y Coordinate</th>\n",
       "      <th>Year</th>\n",
       "      <th>Updated On</th>\n",
       "      <th>Latitude</th>\n",
       "      <th>Longitude</th>\n",
       "      <th>Location</th>\n",
       "    </tr>\n",
       "  </thead>\n",
       "  <tbody>\n",
       "    <tr>\n",
       "      <th>0</th>\n",
       "      <td>10000092</td>\n",
       "      <td>HY189866</td>\n",
       "      <td>03/18/2015 07:44:00 PM</td>\n",
       "      <td>047XX W OHIO ST</td>\n",
       "      <td>041A</td>\n",
       "      <td>BATTERY</td>\n",
       "      <td>AGGRAVATED: HANDGUN</td>\n",
       "      <td>STREET</td>\n",
       "      <td>False</td>\n",
       "      <td>False</td>\n",
       "      <td>...</td>\n",
       "      <td>28.0</td>\n",
       "      <td>25.0</td>\n",
       "      <td>04B</td>\n",
       "      <td>1144606.0</td>\n",
       "      <td>1903566.0</td>\n",
       "      <td>2015</td>\n",
       "      <td>02/10/2018 15:50</td>\n",
       "      <td>41.891399</td>\n",
       "      <td>-87.744385</td>\n",
       "      <td>(41.891398861, -87.744384567)</td>\n",
       "    </tr>\n",
       "    <tr>\n",
       "      <th>1</th>\n",
       "      <td>10000094</td>\n",
       "      <td>HY190059</td>\n",
       "      <td>03/18/2015 11:00:00 PM</td>\n",
       "      <td>066XX S MARSHFIELD AVE</td>\n",
       "      <td>4625</td>\n",
       "      <td>OTHER OFFENSE</td>\n",
       "      <td>PAROLE VIOLATION</td>\n",
       "      <td>STREET</td>\n",
       "      <td>True</td>\n",
       "      <td>False</td>\n",
       "      <td>...</td>\n",
       "      <td>15.0</td>\n",
       "      <td>67.0</td>\n",
       "      <td>26</td>\n",
       "      <td>1166468.0</td>\n",
       "      <td>1860715.0</td>\n",
       "      <td>2015</td>\n",
       "      <td>02/10/2018 15:50</td>\n",
       "      <td>41.773372</td>\n",
       "      <td>-87.665319</td>\n",
       "      <td>(41.773371528, -87.665319468)</td>\n",
       "    </tr>\n",
       "    <tr>\n",
       "      <th>2</th>\n",
       "      <td>10000095</td>\n",
       "      <td>HY190052</td>\n",
       "      <td>03/18/2015 10:45:00 PM</td>\n",
       "      <td>044XX S LAKE PARK AVE</td>\n",
       "      <td>486</td>\n",
       "      <td>BATTERY</td>\n",
       "      <td>DOMESTIC BATTERY SIMPLE</td>\n",
       "      <td>APARTMENT</td>\n",
       "      <td>False</td>\n",
       "      <td>True</td>\n",
       "      <td>...</td>\n",
       "      <td>4.0</td>\n",
       "      <td>39.0</td>\n",
       "      <td>08B</td>\n",
       "      <td>1185075.0</td>\n",
       "      <td>1875622.0</td>\n",
       "      <td>2015</td>\n",
       "      <td>02/10/2018 15:50</td>\n",
       "      <td>41.813861</td>\n",
       "      <td>-87.596643</td>\n",
       "      <td>(41.81386068, -87.596642837)</td>\n",
       "    </tr>\n",
       "    <tr>\n",
       "      <th>3</th>\n",
       "      <td>10000096</td>\n",
       "      <td>HY190054</td>\n",
       "      <td>03/18/2015 10:30:00 PM</td>\n",
       "      <td>051XX S MICHIGAN AVE</td>\n",
       "      <td>460</td>\n",
       "      <td>BATTERY</td>\n",
       "      <td>SIMPLE</td>\n",
       "      <td>APARTMENT</td>\n",
       "      <td>False</td>\n",
       "      <td>False</td>\n",
       "      <td>...</td>\n",
       "      <td>3.0</td>\n",
       "      <td>40.0</td>\n",
       "      <td>08B</td>\n",
       "      <td>1178033.0</td>\n",
       "      <td>1870804.0</td>\n",
       "      <td>2015</td>\n",
       "      <td>02/10/2018 15:50</td>\n",
       "      <td>41.800802</td>\n",
       "      <td>-87.622619</td>\n",
       "      <td>(41.800802415, -87.622619343)</td>\n",
       "    </tr>\n",
       "    <tr>\n",
       "      <th>4</th>\n",
       "      <td>10000097</td>\n",
       "      <td>HY189976</td>\n",
       "      <td>03/18/2015 09:00:00 PM</td>\n",
       "      <td>047XX W ADAMS ST</td>\n",
       "      <td>031A</td>\n",
       "      <td>ROBBERY</td>\n",
       "      <td>ARMED: HANDGUN</td>\n",
       "      <td>SIDEWALK</td>\n",
       "      <td>False</td>\n",
       "      <td>False</td>\n",
       "      <td>...</td>\n",
       "      <td>28.0</td>\n",
       "      <td>25.0</td>\n",
       "      <td>3</td>\n",
       "      <td>1144920.0</td>\n",
       "      <td>1898709.0</td>\n",
       "      <td>2015</td>\n",
       "      <td>02/10/2018 15:50</td>\n",
       "      <td>41.878065</td>\n",
       "      <td>-87.743354</td>\n",
       "      <td>(41.878064761, -87.743354013)</td>\n",
       "    </tr>\n",
       "  </tbody>\n",
       "</table>\n",
       "<p>5 rows × 22 columns</p>\n",
       "</div>"
      ],
      "text/plain": [
       "         ID Case Number                    Date                   Block  IUCR  \\\n",
       "0  10000092    HY189866  03/18/2015 07:44:00 PM         047XX W OHIO ST  041A   \n",
       "1  10000094    HY190059  03/18/2015 11:00:00 PM  066XX S MARSHFIELD AVE  4625   \n",
       "2  10000095    HY190052  03/18/2015 10:45:00 PM   044XX S LAKE PARK AVE   486   \n",
       "3  10000096    HY190054  03/18/2015 10:30:00 PM    051XX S MICHIGAN AVE   460   \n",
       "4  10000097    HY189976  03/18/2015 09:00:00 PM        047XX W ADAMS ST  031A   \n",
       "\n",
       "    Primary Type              Description Location Description  Arrest  \\\n",
       "0        BATTERY      AGGRAVATED: HANDGUN               STREET   False   \n",
       "1  OTHER OFFENSE         PAROLE VIOLATION               STREET    True   \n",
       "2        BATTERY  DOMESTIC BATTERY SIMPLE            APARTMENT   False   \n",
       "3        BATTERY                   SIMPLE            APARTMENT   False   \n",
       "4        ROBBERY           ARMED: HANDGUN             SIDEWALK   False   \n",
       "\n",
       "   Domestic              ...                Ward  Community Area  FBI Code  \\\n",
       "0     False              ...                28.0            25.0       04B   \n",
       "1     False              ...                15.0            67.0        26   \n",
       "2      True              ...                 4.0            39.0       08B   \n",
       "3     False              ...                 3.0            40.0       08B   \n",
       "4     False              ...                28.0            25.0         3   \n",
       "\n",
       "   X Coordinate Y Coordinate  Year        Updated On   Latitude  Longitude  \\\n",
       "0     1144606.0    1903566.0  2015  02/10/2018 15:50  41.891399 -87.744385   \n",
       "1     1166468.0    1860715.0  2015  02/10/2018 15:50  41.773372 -87.665319   \n",
       "2     1185075.0    1875622.0  2015  02/10/2018 15:50  41.813861 -87.596643   \n",
       "3     1178033.0    1870804.0  2015  02/10/2018 15:50  41.800802 -87.622619   \n",
       "4     1144920.0    1898709.0  2015  02/10/2018 15:50  41.878065 -87.743354   \n",
       "\n",
       "                        Location  \n",
       "0  (41.891398861, -87.744384567)  \n",
       "1  (41.773371528, -87.665319468)  \n",
       "2   (41.81386068, -87.596642837)  \n",
       "3  (41.800802415, -87.622619343)  \n",
       "4  (41.878064761, -87.743354013)  \n",
       "\n",
       "[5 rows x 22 columns]"
      ]
     },
     "execution_count": 10,
     "metadata": {},
     "output_type": "execute_result"
    }
   ],
   "source": [
    "df_full.head(5)"
   ]
  },
  {
   "cell_type": "markdown",
   "metadata": {},
   "source": [
    "# Data Prepartion/Cleaning/Altering"
   ]
  },
  {
   "cell_type": "markdown",
   "metadata": {},
   "source": [
    "Dropping various columns that I am not using like latitude and longtitude and location(Long and Lat put together)"
   ]
  },
  {
   "cell_type": "code",
   "execution_count": 11,
   "metadata": {
    "collapsed": true
   },
   "outputs": [],
   "source": [
    "df1 = df_full.drop([\"Longitude\"], axis = 1)"
   ]
  },
  {
   "cell_type": "code",
   "execution_count": 12,
   "metadata": {},
   "outputs": [
    {
     "data": {
      "text/html": [
       "<div>\n",
       "<style>\n",
       "    .dataframe thead tr:only-child th {\n",
       "        text-align: right;\n",
       "    }\n",
       "\n",
       "    .dataframe thead th {\n",
       "        text-align: left;\n",
       "    }\n",
       "\n",
       "    .dataframe tbody tr th {\n",
       "        vertical-align: top;\n",
       "    }\n",
       "</style>\n",
       "<table border=\"1\" class=\"dataframe\">\n",
       "  <thead>\n",
       "    <tr style=\"text-align: right;\">\n",
       "      <th></th>\n",
       "      <th>ID</th>\n",
       "      <th>Case Number</th>\n",
       "      <th>Date</th>\n",
       "      <th>Block</th>\n",
       "      <th>IUCR</th>\n",
       "      <th>Primary Type</th>\n",
       "      <th>Description</th>\n",
       "      <th>Location Description</th>\n",
       "      <th>Arrest</th>\n",
       "      <th>Domestic</th>\n",
       "      <th>Beat</th>\n",
       "      <th>District</th>\n",
       "      <th>Ward</th>\n",
       "      <th>Community Area</th>\n",
       "      <th>FBI Code</th>\n",
       "      <th>X Coordinate</th>\n",
       "      <th>Y Coordinate</th>\n",
       "      <th>Year</th>\n",
       "      <th>Updated On</th>\n",
       "      <th>Location</th>\n",
       "    </tr>\n",
       "  </thead>\n",
       "  <tbody>\n",
       "    <tr>\n",
       "      <th>1048570</th>\n",
       "      <td>2391997</td>\n",
       "      <td>HH703008</td>\n",
       "      <td>10/06/2002 17:00</td>\n",
       "      <td>023XX W MONTANA ST</td>\n",
       "      <td>820</td>\n",
       "      <td>THEFT</td>\n",
       "      <td>$500 AND UNDER</td>\n",
       "      <td>VEHICLE NON-COMMERCIAL</td>\n",
       "      <td>False</td>\n",
       "      <td>False</td>\n",
       "      <td>1432</td>\n",
       "      <td>14.0</td>\n",
       "      <td>1.0</td>\n",
       "      <td>22.0</td>\n",
       "      <td>6</td>\n",
       "      <td>1160305.0</td>\n",
       "      <td>NaN</td>\n",
       "      <td>2002</td>\n",
       "      <td>02/10/2018 15:50</td>\n",
       "      <td>NaN</td>\n",
       "    </tr>\n",
       "    <tr>\n",
       "      <th>1048571</th>\n",
       "      <td>2391998</td>\n",
       "      <td>HH699349</td>\n",
       "      <td>03/01/2002 12:00</td>\n",
       "      <td>078XX S EMERALD AVE</td>\n",
       "      <td>840</td>\n",
       "      <td>THEFT</td>\n",
       "      <td>FINANCIAL ID THEFT: OVER $300</td>\n",
       "      <td>RESIDENCE</td>\n",
       "      <td>False</td>\n",
       "      <td>False</td>\n",
       "      <td>621</td>\n",
       "      <td>6.0</td>\n",
       "      <td>17.0</td>\n",
       "      <td>71.0</td>\n",
       "      <td>6</td>\n",
       "      <td>1172659.0</td>\n",
       "      <td>NaN</td>\n",
       "      <td>2002</td>\n",
       "      <td>02/10/2018 15:50</td>\n",
       "      <td>NaN</td>\n",
       "    </tr>\n",
       "    <tr>\n",
       "      <th>1048572</th>\n",
       "      <td>2391999</td>\n",
       "      <td>HH703000</td>\n",
       "      <td>10/09/2002 13:00</td>\n",
       "      <td>009XX W WEED ST</td>\n",
       "      <td>1320</td>\n",
       "      <td>CRIMINAL DAMAGE</td>\n",
       "      <td>TO VEHICLE</td>\n",
       "      <td>STREET</td>\n",
       "      <td>False</td>\n",
       "      <td>True</td>\n",
       "      <td>1822</td>\n",
       "      <td>18.0</td>\n",
       "      <td>32.0</td>\n",
       "      <td>8.0</td>\n",
       "      <td>14</td>\n",
       "      <td>1169697.0</td>\n",
       "      <td>1910457.0</td>\n",
       "      <td>2002</td>\n",
       "      <td>02/10/2018 15:50</td>\n",
       "      <td>(41.909798633, -87.652036281)</td>\n",
       "    </tr>\n",
       "    <tr>\n",
       "      <th>1048573</th>\n",
       "      <td>2392000</td>\n",
       "      <td>HH703014</td>\n",
       "      <td>10/09/2002 14:40</td>\n",
       "      <td>013XX E 48TH ST</td>\n",
       "      <td>910</td>\n",
       "      <td>MOTOR VEHICLE THEFT</td>\n",
       "      <td>AUTOMOBILE</td>\n",
       "      <td>STREET</td>\n",
       "      <td>False</td>\n",
       "      <td>False</td>\n",
       "      <td>2124</td>\n",
       "      <td>2.0</td>\n",
       "      <td>4.0</td>\n",
       "      <td>39.0</td>\n",
       "      <td>7</td>\n",
       "      <td>1186134.0</td>\n",
       "      <td>NaN</td>\n",
       "      <td>2002</td>\n",
       "      <td>02/10/2018 15:50</td>\n",
       "      <td>NaN</td>\n",
       "    </tr>\n",
       "    <tr>\n",
       "      <th>1048574</th>\n",
       "      <td>2392001</td>\n",
       "      <td>HH595231</td>\n",
       "      <td>08/21/2002 05:45:00 AM</td>\n",
       "      <td>031XX S LAKE SHORE DR NB</td>\n",
       "      <td>910</td>\n",
       "      <td>MOTOR VEHICLE THEFT</td>\n",
       "      <td>AUTOMOBILE</td>\n",
       "      <td>OTHER</td>\n",
       "      <td>False</td>\n",
       "      <td>False</td>\n",
       "      <td>2122</td>\n",
       "      <td>2.0</td>\n",
       "      <td>4.0</td>\n",
       "      <td>35.0</td>\n",
       "      <td>7</td>\n",
       "      <td>1181875.0</td>\n",
       "      <td>NaN</td>\n",
       "      <td>2002</td>\n",
       "      <td>02/10/2018 15:50</td>\n",
       "      <td>NaN</td>\n",
       "    </tr>\n",
       "  </tbody>\n",
       "</table>\n",
       "</div>"
      ],
      "text/plain": [
       "              ID Case Number                    Date  \\\n",
       "1048570  2391997    HH703008        10/06/2002 17:00   \n",
       "1048571  2391998    HH699349        03/01/2002 12:00   \n",
       "1048572  2391999    HH703000        10/09/2002 13:00   \n",
       "1048573  2392000    HH703014        10/09/2002 14:40   \n",
       "1048574  2392001    HH595231  08/21/2002 05:45:00 AM   \n",
       "\n",
       "                            Block  IUCR         Primary Type  \\\n",
       "1048570        023XX W MONTANA ST   820                THEFT   \n",
       "1048571       078XX S EMERALD AVE   840                THEFT   \n",
       "1048572           009XX W WEED ST  1320      CRIMINAL DAMAGE   \n",
       "1048573           013XX E 48TH ST   910  MOTOR VEHICLE THEFT   \n",
       "1048574  031XX S LAKE SHORE DR NB   910  MOTOR VEHICLE THEFT   \n",
       "\n",
       "                           Description    Location Description  Arrest  \\\n",
       "1048570                 $500 AND UNDER  VEHICLE NON-COMMERCIAL   False   \n",
       "1048571  FINANCIAL ID THEFT: OVER $300               RESIDENCE   False   \n",
       "1048572                     TO VEHICLE                  STREET   False   \n",
       "1048573                     AUTOMOBILE                  STREET   False   \n",
       "1048574                     AUTOMOBILE                   OTHER   False   \n",
       "\n",
       "         Domestic  Beat  District  Ward  Community Area FBI Code  \\\n",
       "1048570     False  1432      14.0   1.0            22.0        6   \n",
       "1048571     False   621       6.0  17.0            71.0        6   \n",
       "1048572      True  1822      18.0  32.0             8.0       14   \n",
       "1048573     False  2124       2.0   4.0            39.0        7   \n",
       "1048574     False  2122       2.0   4.0            35.0        7   \n",
       "\n",
       "         X Coordinate  Y Coordinate  Year        Updated On  \\\n",
       "1048570     1160305.0           NaN  2002  02/10/2018 15:50   \n",
       "1048571     1172659.0           NaN  2002  02/10/2018 15:50   \n",
       "1048572     1169697.0     1910457.0  2002  02/10/2018 15:50   \n",
       "1048573     1186134.0           NaN  2002  02/10/2018 15:50   \n",
       "1048574     1181875.0           NaN  2002  02/10/2018 15:50   \n",
       "\n",
       "                              Location  \n",
       "1048570                            NaN  \n",
       "1048571                            NaN  \n",
       "1048572  (41.909798633, -87.652036281)  \n",
       "1048573                            NaN  \n",
       "1048574                            NaN  "
      ]
     },
     "execution_count": 12,
     "metadata": {},
     "output_type": "execute_result"
    }
   ],
   "source": [
    "df2 = df1.drop([\"Latitude\"], axis = 1)\n",
    "df2.tail(5)\n"
   ]
  },
  {
   "cell_type": "markdown",
   "metadata": {},
   "source": [
    "Renaming various columns to make them easier to access/manage"
   ]
  },
  {
   "cell_type": "code",
   "execution_count": 13,
   "metadata": {
    "collapsed": true
   },
   "outputs": [],
   "source": [
    "df4 = df2.rename(columns={'Location Description' : 'Location_Description', 'Primary Type' : 'Primary_Type', 'Case Number' : 'Case_Number', 'Community Area' : 'Community_Area', 'FBI Code' : 'FBI_Code', 'X Coordinate' : 'X_Coordinate', 'Y Coordinate' : 'Y_Coordinate', 'Updated On' : 'Updated_On', 'Date' : 'Date_and_Time'})"
   ]
  },
  {
   "cell_type": "code",
   "execution_count": 14,
   "metadata": {
    "collapsed": true
   },
   "outputs": [],
   "source": [
    "df4['Ward'].fillna(0, inplace=True)\n",
    "df4['Community_Area'].fillna(0, inplace=True)\n"
   ]
  },
  {
   "cell_type": "markdown",
   "metadata": {},
   "source": [
    "Dropping columns that I am not using"
   ]
  },
  {
   "cell_type": "code",
   "execution_count": 15,
   "metadata": {
    "collapsed": true
   },
   "outputs": [],
   "source": [
    "df12 = df4.drop([\"Location\"], axis = 1)\n",
    "df13 = df12.drop([\"X_Coordinate\"], axis = 1)\n",
    "df5 = df13.drop([\"Y_Coordinate\"], axis = 1)"
   ]
  },
  {
   "cell_type": "markdown",
   "metadata": {},
   "source": [
    "Inserting new columns Time and Date"
   ]
  },
  {
   "cell_type": "code",
   "execution_count": 16,
   "metadata": {
    "collapsed": true
   },
   "outputs": [],
   "source": [
    "df5.insert(3, 'Time', 0)"
   ]
  },
  {
   "cell_type": "code",
   "execution_count": 17,
   "metadata": {},
   "outputs": [
    {
     "data": {
      "text/html": [
       "<div>\n",
       "<style>\n",
       "    .dataframe thead tr:only-child th {\n",
       "        text-align: right;\n",
       "    }\n",
       "\n",
       "    .dataframe thead th {\n",
       "        text-align: left;\n",
       "    }\n",
       "\n",
       "    .dataframe tbody tr th {\n",
       "        vertical-align: top;\n",
       "    }\n",
       "</style>\n",
       "<table border=\"1\" class=\"dataframe\">\n",
       "  <thead>\n",
       "    <tr style=\"text-align: right;\">\n",
       "      <th></th>\n",
       "      <th>ID</th>\n",
       "      <th>Case_Number</th>\n",
       "      <th>Date_and_Time</th>\n",
       "      <th>Time</th>\n",
       "      <th>Block</th>\n",
       "      <th>IUCR</th>\n",
       "      <th>Primary_Type</th>\n",
       "      <th>Description</th>\n",
       "      <th>Location_Description</th>\n",
       "      <th>Arrest</th>\n",
       "      <th>Domestic</th>\n",
       "      <th>Beat</th>\n",
       "      <th>District</th>\n",
       "      <th>Ward</th>\n",
       "      <th>Community_Area</th>\n",
       "      <th>FBI_Code</th>\n",
       "      <th>Year</th>\n",
       "      <th>Updated_On</th>\n",
       "    </tr>\n",
       "  </thead>\n",
       "  <tbody>\n",
       "    <tr>\n",
       "      <th>0</th>\n",
       "      <td>10000092</td>\n",
       "      <td>HY189866</td>\n",
       "      <td>03/18/2015 07:44:00 PM</td>\n",
       "      <td>0</td>\n",
       "      <td>047XX W OHIO ST</td>\n",
       "      <td>041A</td>\n",
       "      <td>BATTERY</td>\n",
       "      <td>AGGRAVATED: HANDGUN</td>\n",
       "      <td>STREET</td>\n",
       "      <td>False</td>\n",
       "      <td>False</td>\n",
       "      <td>1111</td>\n",
       "      <td>11.0</td>\n",
       "      <td>28.0</td>\n",
       "      <td>25.0</td>\n",
       "      <td>04B</td>\n",
       "      <td>2015</td>\n",
       "      <td>02/10/2018 15:50</td>\n",
       "    </tr>\n",
       "    <tr>\n",
       "      <th>1</th>\n",
       "      <td>10000094</td>\n",
       "      <td>HY190059</td>\n",
       "      <td>03/18/2015 11:00:00 PM</td>\n",
       "      <td>0</td>\n",
       "      <td>066XX S MARSHFIELD AVE</td>\n",
       "      <td>4625</td>\n",
       "      <td>OTHER OFFENSE</td>\n",
       "      <td>PAROLE VIOLATION</td>\n",
       "      <td>STREET</td>\n",
       "      <td>True</td>\n",
       "      <td>False</td>\n",
       "      <td>725</td>\n",
       "      <td>7.0</td>\n",
       "      <td>15.0</td>\n",
       "      <td>67.0</td>\n",
       "      <td>26</td>\n",
       "      <td>2015</td>\n",
       "      <td>02/10/2018 15:50</td>\n",
       "    </tr>\n",
       "    <tr>\n",
       "      <th>2</th>\n",
       "      <td>10000095</td>\n",
       "      <td>HY190052</td>\n",
       "      <td>03/18/2015 10:45:00 PM</td>\n",
       "      <td>0</td>\n",
       "      <td>044XX S LAKE PARK AVE</td>\n",
       "      <td>486</td>\n",
       "      <td>BATTERY</td>\n",
       "      <td>DOMESTIC BATTERY SIMPLE</td>\n",
       "      <td>APARTMENT</td>\n",
       "      <td>False</td>\n",
       "      <td>True</td>\n",
       "      <td>222</td>\n",
       "      <td>2.0</td>\n",
       "      <td>4.0</td>\n",
       "      <td>39.0</td>\n",
       "      <td>08B</td>\n",
       "      <td>2015</td>\n",
       "      <td>02/10/2018 15:50</td>\n",
       "    </tr>\n",
       "  </tbody>\n",
       "</table>\n",
       "</div>"
      ],
      "text/plain": [
       "         ID Case_Number           Date_and_Time  Time                   Block  \\\n",
       "0  10000092    HY189866  03/18/2015 07:44:00 PM     0         047XX W OHIO ST   \n",
       "1  10000094    HY190059  03/18/2015 11:00:00 PM     0  066XX S MARSHFIELD AVE   \n",
       "2  10000095    HY190052  03/18/2015 10:45:00 PM     0   044XX S LAKE PARK AVE   \n",
       "\n",
       "   IUCR   Primary_Type              Description Location_Description  Arrest  \\\n",
       "0  041A        BATTERY      AGGRAVATED: HANDGUN               STREET   False   \n",
       "1  4625  OTHER OFFENSE         PAROLE VIOLATION               STREET    True   \n",
       "2   486        BATTERY  DOMESTIC BATTERY SIMPLE            APARTMENT   False   \n",
       "\n",
       "   Domestic  Beat  District  Ward  Community_Area FBI_Code  Year  \\\n",
       "0     False  1111      11.0  28.0            25.0      04B  2015   \n",
       "1     False   725       7.0  15.0            67.0       26  2015   \n",
       "2      True   222       2.0   4.0            39.0      08B  2015   \n",
       "\n",
       "         Updated_On  \n",
       "0  02/10/2018 15:50  \n",
       "1  02/10/2018 15:50  \n",
       "2  02/10/2018 15:50  "
      ]
     },
     "execution_count": 17,
     "metadata": {},
     "output_type": "execute_result"
    }
   ],
   "source": [
    "df5.head(3)"
   ]
  },
  {
   "cell_type": "code",
   "execution_count": 18,
   "metadata": {
    "collapsed": true
   },
   "outputs": [],
   "source": [
    "df5.insert(4, 'Date', 0)"
   ]
  },
  {
   "cell_type": "markdown",
   "metadata": {},
   "source": [
    "Changing the type of the time and date columns to str as I think they might be easier to handle"
   ]
  },
  {
   "cell_type": "code",
   "execution_count": 19,
   "metadata": {
    "collapsed": true
   },
   "outputs": [],
   "source": [
    "df5['Time'] = df5['Time'].astype(str)\n",
    "df5['Date_and_Time'] = df5['Date_and_Time'].astype(str)\n",
    "df5['Date'] = df5['Date'].astype(str)"
   ]
  },
  {
   "cell_type": "code",
   "execution_count": 20,
   "metadata": {},
   "outputs": [
    {
     "name": "stdout",
     "output_type": "stream",
     "text": [
      "<class 'pandas.core.frame.DataFrame'>\n",
      "RangeIndex: 1048575 entries, 0 to 1048574\n",
      "Data columns (total 19 columns):\n",
      "ID                      1048575 non-null int64\n",
      "Case_Number             1048575 non-null object\n",
      "Date_and_Time           1048575 non-null object\n",
      "Time                    1048575 non-null object\n",
      "Date                    1048575 non-null object\n",
      "Block                   1048575 non-null object\n",
      "IUCR                    1048575 non-null object\n",
      "Primary_Type            1048575 non-null object\n",
      "Description             1048575 non-null object\n",
      "Location_Description    1047313 non-null object\n",
      "Arrest                  1048575 non-null bool\n",
      "Domestic                1048575 non-null bool\n",
      "Beat                    1048575 non-null int64\n",
      "District                1048574 non-null float64\n",
      "Ward                    1048575 non-null float64\n",
      "Community_Area          1048575 non-null float64\n",
      "FBI_Code                1048575 non-null object\n",
      "Year                    1048575 non-null int64\n",
      "Updated_On              1048575 non-null object\n",
      "dtypes: bool(2), float64(3), int64(3), object(11)\n",
      "memory usage: 138.0+ MB\n"
     ]
    }
   ],
   "source": [
    "df5.info()"
   ]
  },
  {
   "cell_type": "code",
   "execution_count": 21,
   "metadata": {},
   "outputs": [
    {
     "data": {
      "text/html": [
       "<div>\n",
       "<style>\n",
       "    .dataframe thead tr:only-child th {\n",
       "        text-align: right;\n",
       "    }\n",
       "\n",
       "    .dataframe thead th {\n",
       "        text-align: left;\n",
       "    }\n",
       "\n",
       "    .dataframe tbody tr th {\n",
       "        vertical-align: top;\n",
       "    }\n",
       "</style>\n",
       "<table border=\"1\" class=\"dataframe\">\n",
       "  <thead>\n",
       "    <tr style=\"text-align: right;\">\n",
       "      <th></th>\n",
       "      <th>ID</th>\n",
       "      <th>Case_Number</th>\n",
       "      <th>Date_and_Time</th>\n",
       "      <th>Time</th>\n",
       "      <th>Date</th>\n",
       "      <th>Block</th>\n",
       "      <th>IUCR</th>\n",
       "      <th>Primary_Type</th>\n",
       "      <th>Description</th>\n",
       "      <th>Location_Description</th>\n",
       "      <th>Arrest</th>\n",
       "      <th>Domestic</th>\n",
       "      <th>Beat</th>\n",
       "      <th>District</th>\n",
       "      <th>Ward</th>\n",
       "      <th>Community_Area</th>\n",
       "      <th>FBI_Code</th>\n",
       "      <th>Year</th>\n",
       "      <th>Updated_On</th>\n",
       "    </tr>\n",
       "  </thead>\n",
       "  <tbody>\n",
       "    <tr>\n",
       "      <th>0</th>\n",
       "      <td>10000092</td>\n",
       "      <td>HY189866</td>\n",
       "      <td>03/18/2015 07:44:00 PM</td>\n",
       "      <td>0</td>\n",
       "      <td>0</td>\n",
       "      <td>047XX W OHIO ST</td>\n",
       "      <td>041A</td>\n",
       "      <td>BATTERY</td>\n",
       "      <td>AGGRAVATED: HANDGUN</td>\n",
       "      <td>STREET</td>\n",
       "      <td>False</td>\n",
       "      <td>False</td>\n",
       "      <td>1111</td>\n",
       "      <td>11.0</td>\n",
       "      <td>28.0</td>\n",
       "      <td>25.0</td>\n",
       "      <td>04B</td>\n",
       "      <td>2015</td>\n",
       "      <td>02/10/2018 15:50</td>\n",
       "    </tr>\n",
       "    <tr>\n",
       "      <th>1</th>\n",
       "      <td>10000094</td>\n",
       "      <td>HY190059</td>\n",
       "      <td>03/18/2015 11:00:00 PM</td>\n",
       "      <td>0</td>\n",
       "      <td>0</td>\n",
       "      <td>066XX S MARSHFIELD AVE</td>\n",
       "      <td>4625</td>\n",
       "      <td>OTHER OFFENSE</td>\n",
       "      <td>PAROLE VIOLATION</td>\n",
       "      <td>STREET</td>\n",
       "      <td>True</td>\n",
       "      <td>False</td>\n",
       "      <td>725</td>\n",
       "      <td>7.0</td>\n",
       "      <td>15.0</td>\n",
       "      <td>67.0</td>\n",
       "      <td>26</td>\n",
       "      <td>2015</td>\n",
       "      <td>02/10/2018 15:50</td>\n",
       "    </tr>\n",
       "    <tr>\n",
       "      <th>2</th>\n",
       "      <td>10000095</td>\n",
       "      <td>HY190052</td>\n",
       "      <td>03/18/2015 10:45:00 PM</td>\n",
       "      <td>0</td>\n",
       "      <td>0</td>\n",
       "      <td>044XX S LAKE PARK AVE</td>\n",
       "      <td>486</td>\n",
       "      <td>BATTERY</td>\n",
       "      <td>DOMESTIC BATTERY SIMPLE</td>\n",
       "      <td>APARTMENT</td>\n",
       "      <td>False</td>\n",
       "      <td>True</td>\n",
       "      <td>222</td>\n",
       "      <td>2.0</td>\n",
       "      <td>4.0</td>\n",
       "      <td>39.0</td>\n",
       "      <td>08B</td>\n",
       "      <td>2015</td>\n",
       "      <td>02/10/2018 15:50</td>\n",
       "    </tr>\n",
       "  </tbody>\n",
       "</table>\n",
       "</div>"
      ],
      "text/plain": [
       "         ID Case_Number           Date_and_Time Time Date  \\\n",
       "0  10000092    HY189866  03/18/2015 07:44:00 PM    0    0   \n",
       "1  10000094    HY190059  03/18/2015 11:00:00 PM    0    0   \n",
       "2  10000095    HY190052  03/18/2015 10:45:00 PM    0    0   \n",
       "\n",
       "                    Block  IUCR   Primary_Type              Description  \\\n",
       "0         047XX W OHIO ST  041A        BATTERY      AGGRAVATED: HANDGUN   \n",
       "1  066XX S MARSHFIELD AVE  4625  OTHER OFFENSE         PAROLE VIOLATION   \n",
       "2   044XX S LAKE PARK AVE   486        BATTERY  DOMESTIC BATTERY SIMPLE   \n",
       "\n",
       "  Location_Description  Arrest  Domestic  Beat  District  Ward  \\\n",
       "0               STREET   False     False  1111      11.0  28.0   \n",
       "1               STREET    True     False   725       7.0  15.0   \n",
       "2            APARTMENT   False      True   222       2.0   4.0   \n",
       "\n",
       "   Community_Area FBI_Code  Year        Updated_On  \n",
       "0            25.0      04B  2015  02/10/2018 15:50  \n",
       "1            67.0       26  2015  02/10/2018 15:50  \n",
       "2            39.0      08B  2015  02/10/2018 15:50  "
      ]
     },
     "execution_count": 21,
     "metadata": {},
     "output_type": "execute_result"
    }
   ],
   "source": [
    "df5.head(3)"
   ]
  },
  {
   "cell_type": "markdown",
   "metadata": {},
   "source": [
    "Slicing the time and date from the old column 'Date and Time' into the new ones"
   ]
  },
  {
   "cell_type": "code",
   "execution_count": 22,
   "metadata": {
    "collapsed": true
   },
   "outputs": [],
   "source": [
    "df5['Date'] = df5.Date_and_Time.str[:10]"
   ]
  },
  {
   "cell_type": "code",
   "execution_count": 23,
   "metadata": {},
   "outputs": [
    {
     "data": {
      "text/html": [
       "<div>\n",
       "<style>\n",
       "    .dataframe thead tr:only-child th {\n",
       "        text-align: right;\n",
       "    }\n",
       "\n",
       "    .dataframe thead th {\n",
       "        text-align: left;\n",
       "    }\n",
       "\n",
       "    .dataframe tbody tr th {\n",
       "        vertical-align: top;\n",
       "    }\n",
       "</style>\n",
       "<table border=\"1\" class=\"dataframe\">\n",
       "  <thead>\n",
       "    <tr style=\"text-align: right;\">\n",
       "      <th></th>\n",
       "      <th>ID</th>\n",
       "      <th>Case_Number</th>\n",
       "      <th>Date_and_Time</th>\n",
       "      <th>Time</th>\n",
       "      <th>Date</th>\n",
       "      <th>Block</th>\n",
       "      <th>IUCR</th>\n",
       "      <th>Primary_Type</th>\n",
       "      <th>Description</th>\n",
       "      <th>Location_Description</th>\n",
       "      <th>Arrest</th>\n",
       "      <th>Domestic</th>\n",
       "      <th>Beat</th>\n",
       "      <th>District</th>\n",
       "      <th>Ward</th>\n",
       "      <th>Community_Area</th>\n",
       "      <th>FBI_Code</th>\n",
       "      <th>Year</th>\n",
       "      <th>Updated_On</th>\n",
       "    </tr>\n",
       "  </thead>\n",
       "  <tbody>\n",
       "    <tr>\n",
       "      <th>0</th>\n",
       "      <td>10000092</td>\n",
       "      <td>HY189866</td>\n",
       "      <td>03/18/2015 07:44:00 PM</td>\n",
       "      <td>0</td>\n",
       "      <td>03/18/2015</td>\n",
       "      <td>047XX W OHIO ST</td>\n",
       "      <td>041A</td>\n",
       "      <td>BATTERY</td>\n",
       "      <td>AGGRAVATED: HANDGUN</td>\n",
       "      <td>STREET</td>\n",
       "      <td>False</td>\n",
       "      <td>False</td>\n",
       "      <td>1111</td>\n",
       "      <td>11.0</td>\n",
       "      <td>28.0</td>\n",
       "      <td>25.0</td>\n",
       "      <td>04B</td>\n",
       "      <td>2015</td>\n",
       "      <td>02/10/2018 15:50</td>\n",
       "    </tr>\n",
       "    <tr>\n",
       "      <th>1</th>\n",
       "      <td>10000094</td>\n",
       "      <td>HY190059</td>\n",
       "      <td>03/18/2015 11:00:00 PM</td>\n",
       "      <td>0</td>\n",
       "      <td>03/18/2015</td>\n",
       "      <td>066XX S MARSHFIELD AVE</td>\n",
       "      <td>4625</td>\n",
       "      <td>OTHER OFFENSE</td>\n",
       "      <td>PAROLE VIOLATION</td>\n",
       "      <td>STREET</td>\n",
       "      <td>True</td>\n",
       "      <td>False</td>\n",
       "      <td>725</td>\n",
       "      <td>7.0</td>\n",
       "      <td>15.0</td>\n",
       "      <td>67.0</td>\n",
       "      <td>26</td>\n",
       "      <td>2015</td>\n",
       "      <td>02/10/2018 15:50</td>\n",
       "    </tr>\n",
       "    <tr>\n",
       "      <th>2</th>\n",
       "      <td>10000095</td>\n",
       "      <td>HY190052</td>\n",
       "      <td>03/18/2015 10:45:00 PM</td>\n",
       "      <td>0</td>\n",
       "      <td>03/18/2015</td>\n",
       "      <td>044XX S LAKE PARK AVE</td>\n",
       "      <td>486</td>\n",
       "      <td>BATTERY</td>\n",
       "      <td>DOMESTIC BATTERY SIMPLE</td>\n",
       "      <td>APARTMENT</td>\n",
       "      <td>False</td>\n",
       "      <td>True</td>\n",
       "      <td>222</td>\n",
       "      <td>2.0</td>\n",
       "      <td>4.0</td>\n",
       "      <td>39.0</td>\n",
       "      <td>08B</td>\n",
       "      <td>2015</td>\n",
       "      <td>02/10/2018 15:50</td>\n",
       "    </tr>\n",
       "  </tbody>\n",
       "</table>\n",
       "</div>"
      ],
      "text/plain": [
       "         ID Case_Number           Date_and_Time Time        Date  \\\n",
       "0  10000092    HY189866  03/18/2015 07:44:00 PM    0  03/18/2015   \n",
       "1  10000094    HY190059  03/18/2015 11:00:00 PM    0  03/18/2015   \n",
       "2  10000095    HY190052  03/18/2015 10:45:00 PM    0  03/18/2015   \n",
       "\n",
       "                    Block  IUCR   Primary_Type              Description  \\\n",
       "0         047XX W OHIO ST  041A        BATTERY      AGGRAVATED: HANDGUN   \n",
       "1  066XX S MARSHFIELD AVE  4625  OTHER OFFENSE         PAROLE VIOLATION   \n",
       "2   044XX S LAKE PARK AVE   486        BATTERY  DOMESTIC BATTERY SIMPLE   \n",
       "\n",
       "  Location_Description  Arrest  Domestic  Beat  District  Ward  \\\n",
       "0               STREET   False     False  1111      11.0  28.0   \n",
       "1               STREET    True     False   725       7.0  15.0   \n",
       "2            APARTMENT   False      True   222       2.0   4.0   \n",
       "\n",
       "   Community_Area FBI_Code  Year        Updated_On  \n",
       "0            25.0      04B  2015  02/10/2018 15:50  \n",
       "1            67.0       26  2015  02/10/2018 15:50  \n",
       "2            39.0      08B  2015  02/10/2018 15:50  "
      ]
     },
     "execution_count": 23,
     "metadata": {},
     "output_type": "execute_result"
    }
   ],
   "source": [
    "df5.head(3)"
   ]
  },
  {
   "cell_type": "code",
   "execution_count": 24,
   "metadata": {
    "collapsed": true
   },
   "outputs": [],
   "source": [
    "df5['Time'] = df5['Date_and_Time'].str[10:]"
   ]
  },
  {
   "cell_type": "code",
   "execution_count": 25,
   "metadata": {},
   "outputs": [
    {
     "data": {
      "text/html": [
       "<div>\n",
       "<style>\n",
       "    .dataframe thead tr:only-child th {\n",
       "        text-align: right;\n",
       "    }\n",
       "\n",
       "    .dataframe thead th {\n",
       "        text-align: left;\n",
       "    }\n",
       "\n",
       "    .dataframe tbody tr th {\n",
       "        vertical-align: top;\n",
       "    }\n",
       "</style>\n",
       "<table border=\"1\" class=\"dataframe\">\n",
       "  <thead>\n",
       "    <tr style=\"text-align: right;\">\n",
       "      <th></th>\n",
       "      <th>ID</th>\n",
       "      <th>Case_Number</th>\n",
       "      <th>Date_and_Time</th>\n",
       "      <th>Time</th>\n",
       "      <th>Date</th>\n",
       "      <th>Block</th>\n",
       "      <th>IUCR</th>\n",
       "      <th>Primary_Type</th>\n",
       "      <th>Description</th>\n",
       "      <th>Location_Description</th>\n",
       "      <th>Arrest</th>\n",
       "      <th>Domestic</th>\n",
       "      <th>Beat</th>\n",
       "      <th>District</th>\n",
       "      <th>Ward</th>\n",
       "      <th>Community_Area</th>\n",
       "      <th>FBI_Code</th>\n",
       "      <th>Year</th>\n",
       "      <th>Updated_On</th>\n",
       "    </tr>\n",
       "  </thead>\n",
       "  <tbody>\n",
       "    <tr>\n",
       "      <th>51</th>\n",
       "      <td>10000164</td>\n",
       "      <td>HY190123</td>\n",
       "      <td>03/19/2015 02:55:00 AM</td>\n",
       "      <td>02:55:00 AM</td>\n",
       "      <td>03/19/2015</td>\n",
       "      <td>031XX W 44TH ST</td>\n",
       "      <td>1310</td>\n",
       "      <td>CRIMINAL DAMAGE</td>\n",
       "      <td>TO PROPERTY</td>\n",
       "      <td>ALLEY</td>\n",
       "      <td>False</td>\n",
       "      <td>False</td>\n",
       "      <td>922</td>\n",
       "      <td>9.0</td>\n",
       "      <td>14.0</td>\n",
       "      <td>58.0</td>\n",
       "      <td>14</td>\n",
       "      <td>2015</td>\n",
       "      <td>02/10/2018 15:50</td>\n",
       "    </tr>\n",
       "    <tr>\n",
       "      <th>52</th>\n",
       "      <td>10000166</td>\n",
       "      <td>HY190133</td>\n",
       "      <td>03/19/2015 03:00:00 AM</td>\n",
       "      <td>03:00:00 AM</td>\n",
       "      <td>03/19/2015</td>\n",
       "      <td>014XX E 70TH ST</td>\n",
       "      <td>486</td>\n",
       "      <td>BATTERY</td>\n",
       "      <td>DOMESTIC BATTERY SIMPLE</td>\n",
       "      <td>RESIDENCE</td>\n",
       "      <td>False</td>\n",
       "      <td>True</td>\n",
       "      <td>332</td>\n",
       "      <td>3.0</td>\n",
       "      <td>5.0</td>\n",
       "      <td>43.0</td>\n",
       "      <td>08B</td>\n",
       "      <td>2015</td>\n",
       "      <td>02/10/2018 15:50</td>\n",
       "    </tr>\n",
       "    <tr>\n",
       "      <th>53</th>\n",
       "      <td>10000169</td>\n",
       "      <td>HY190064</td>\n",
       "      <td>03/12/2015 10:00</td>\n",
       "      <td>10:00</td>\n",
       "      <td>03/12/2015</td>\n",
       "      <td>007XX N CENTRAL AVE</td>\n",
       "      <td>560</td>\n",
       "      <td>ASSAULT</td>\n",
       "      <td>SIMPLE</td>\n",
       "      <td>APARTMENT</td>\n",
       "      <td>False</td>\n",
       "      <td>False</td>\n",
       "      <td>1524</td>\n",
       "      <td>15.0</td>\n",
       "      <td>37.0</td>\n",
       "      <td>25.0</td>\n",
       "      <td>08A</td>\n",
       "      <td>2015</td>\n",
       "      <td>02/10/2018 15:50</td>\n",
       "    </tr>\n",
       "  </tbody>\n",
       "</table>\n",
       "</div>"
      ],
      "text/plain": [
       "          ID Case_Number           Date_and_Time          Time        Date  \\\n",
       "51  10000164    HY190123  03/19/2015 02:55:00 AM   02:55:00 AM  03/19/2015   \n",
       "52  10000166    HY190133  03/19/2015 03:00:00 AM   03:00:00 AM  03/19/2015   \n",
       "53  10000169    HY190064        03/12/2015 10:00         10:00  03/12/2015   \n",
       "\n",
       "                  Block  IUCR     Primary_Type              Description  \\\n",
       "51      031XX W 44TH ST  1310  CRIMINAL DAMAGE              TO PROPERTY   \n",
       "52      014XX E 70TH ST   486          BATTERY  DOMESTIC BATTERY SIMPLE   \n",
       "53  007XX N CENTRAL AVE   560          ASSAULT                   SIMPLE   \n",
       "\n",
       "   Location_Description  Arrest  Domestic  Beat  District  Ward  \\\n",
       "51                ALLEY   False     False   922       9.0  14.0   \n",
       "52            RESIDENCE   False      True   332       3.0   5.0   \n",
       "53            APARTMENT   False     False  1524      15.0  37.0   \n",
       "\n",
       "    Community_Area FBI_Code  Year        Updated_On  \n",
       "51            58.0       14  2015  02/10/2018 15:50  \n",
       "52            43.0      08B  2015  02/10/2018 15:50  \n",
       "53            25.0      08A  2015  02/10/2018 15:50  "
      ]
     },
     "execution_count": 25,
     "metadata": {},
     "output_type": "execute_result"
    }
   ],
   "source": [
    "df5.head(54).tail(3)"
   ]
  },
  {
   "cell_type": "markdown",
   "metadata": {},
   "source": [
    "Filling in values that have no entry"
   ]
  },
  {
   "cell_type": "code",
   "execution_count": 26,
   "metadata": {
    "collapsed": true
   },
   "outputs": [],
   "source": [
    "df5['Location_Description'] = df5['Location_Description'].fillna('UNKNOWN')"
   ]
  },
  {
   "cell_type": "code",
   "execution_count": 27,
   "metadata": {
    "collapsed": true
   },
   "outputs": [],
   "source": [
    "df5['District'] = df5['District'].fillna('-1')"
   ]
  },
  {
   "cell_type": "code",
   "execution_count": 28,
   "metadata": {},
   "outputs": [
    {
     "data": {
      "text/plain": [
       "ID                      0\n",
       "Case_Number             0\n",
       "Date_and_Time           0\n",
       "Time                    0\n",
       "Date                    0\n",
       "Block                   0\n",
       "IUCR                    0\n",
       "Primary_Type            0\n",
       "Description             0\n",
       "Location_Description    0\n",
       "Arrest                  0\n",
       "Domestic                0\n",
       "Beat                    0\n",
       "District                0\n",
       "Ward                    0\n",
       "Community_Area          0\n",
       "FBI_Code                0\n",
       "Year                    0\n",
       "Updated_On              0\n",
       "dtype: int64"
      ]
     },
     "execution_count": 28,
     "metadata": {},
     "output_type": "execute_result"
    }
   ],
   "source": [
    "df5.isnull().sum()"
   ]
  },
  {
   "cell_type": "code",
   "execution_count": 29,
   "metadata": {
    "collapsed": true
   },
   "outputs": [],
   "source": [
    "df10 = df5\n",
    "df11 = df10"
   ]
  },
  {
   "cell_type": "markdown",
   "metadata": {
    "collapsed": true
   },
   "source": [
    "This script alters the times to 24 hour format because the entries all had different formats and charachters. This script takes a long time to run (5-10 mins) due to over 1.4 million entries in the file. The same will apply for scripts after this one. Apologies as I thought it would be faster."
   ]
  },
  {
   "cell_type": "code",
   "execution_count": 30,
   "metadata": {
    "collapsed": true
   },
   "outputs": [],
   "source": [
    "for x in range(len(df5)):\n",
    "    index = df5.iloc[x].name\n",
    "    time = df5.Time.iloc[x]\n",
    "    \n",
    "    if time.count(\":\") == 1:\n",
    "        [hours, mins] = time.split(':')\n",
    "        \n",
    "        \n",
    "        if mins[-2:] != 'AM' or mins[-2:] != 'PM':\n",
    "            df5.set_value(index, \"Time\", '{0}{1}hr'.format(hours, mins))\n",
    "        \n",
    "        elif mins[-2:] == \"AM\":\n",
    "            if hours == '12':\n",
    "                hours = '00'\n",
    "                \n",
    "            else:\n",
    "                hours = hours\n",
    "                \n",
    "                \n",
    "            df5.set_value(index, \"Time\", '{0}{1}hr'.format(hours, mins[:-2]))\n",
    "        \n",
    "        elif mins[-2:] == 'PM':\n",
    "            \n",
    "            if hours == '12':\n",
    "                hours = hours\n",
    "                \n",
    "            if hours != '12':\n",
    "                temp = int(hours)\n",
    "                temp = temp + 12\n",
    "                hours = str(temp)\n",
    "               \n",
    "            \n",
    "            df5.set_value(index, \"Time\", '{0}{1}hr'.format(hours, mins[:-2]))\n",
    "        \n",
    "    elif time.count(\":\") == 2:\n",
    "        [hours, mins, seconds] = time.split(':')\n",
    "    \n",
    "    if seconds[-2:] != 'AM' or seconds[-2] != 'PM':\n",
    "        df5.set_value(index, \"Time\", '{0}{1}hr'.format(hours, mins, seconds))\n",
    "    \n",
    "    if seconds[-2:] == 'AM':\n",
    "        if hours == '12':\n",
    "            hours = '00'\n",
    "            \n",
    "        else:\n",
    "            hours = hours\n",
    "            \n",
    "        df5.set_value(index, \"Time\", '{0}{1}hr'.format(hours, mins, seconds[:-2]))\n",
    "        \n",
    "    if seconds[-2:] == 'PM':\n",
    "        if hours == '12':\n",
    "            hours = hours\n",
    "            \n",
    "        if hours != '12':\n",
    "            temp = int(hours)\n",
    "            temp = temp + 12\n",
    "            hours = str(temp)\n",
    "        \n",
    "        df5.set_value(index, \"Time\", '{0}{1}hr'.format(hours, mins, seconds[:-2]))\n",
    "    \n",
    "    \n",
    "    \n",
    "    \n",
    "    "
   ]
  },
  {
   "cell_type": "code",
   "execution_count": 31,
   "metadata": {},
   "outputs": [
    {
     "data": {
      "text/html": [
       "<div>\n",
       "<style>\n",
       "    .dataframe thead tr:only-child th {\n",
       "        text-align: right;\n",
       "    }\n",
       "\n",
       "    .dataframe thead th {\n",
       "        text-align: left;\n",
       "    }\n",
       "\n",
       "    .dataframe tbody tr th {\n",
       "        vertical-align: top;\n",
       "    }\n",
       "</style>\n",
       "<table border=\"1\" class=\"dataframe\">\n",
       "  <thead>\n",
       "    <tr style=\"text-align: right;\">\n",
       "      <th></th>\n",
       "      <th>ID</th>\n",
       "      <th>Case_Number</th>\n",
       "      <th>Date_and_Time</th>\n",
       "      <th>Time</th>\n",
       "      <th>Date</th>\n",
       "      <th>Block</th>\n",
       "      <th>IUCR</th>\n",
       "      <th>Primary_Type</th>\n",
       "      <th>Description</th>\n",
       "      <th>Location_Description</th>\n",
       "      <th>Arrest</th>\n",
       "      <th>Domestic</th>\n",
       "      <th>Beat</th>\n",
       "      <th>District</th>\n",
       "      <th>Ward</th>\n",
       "      <th>Community_Area</th>\n",
       "      <th>FBI_Code</th>\n",
       "      <th>Year</th>\n",
       "      <th>Updated_On</th>\n",
       "    </tr>\n",
       "  </thead>\n",
       "  <tbody>\n",
       "    <tr>\n",
       "      <th>0</th>\n",
       "      <td>10000092</td>\n",
       "      <td>HY189866</td>\n",
       "      <td>03/18/2015 07:44:00 PM</td>\n",
       "      <td>1944hr</td>\n",
       "      <td>03/18/2015</td>\n",
       "      <td>047XX W OHIO ST</td>\n",
       "      <td>041A</td>\n",
       "      <td>BATTERY</td>\n",
       "      <td>AGGRAVATED: HANDGUN</td>\n",
       "      <td>STREET</td>\n",
       "      <td>False</td>\n",
       "      <td>False</td>\n",
       "      <td>1111</td>\n",
       "      <td>11</td>\n",
       "      <td>28.0</td>\n",
       "      <td>25.0</td>\n",
       "      <td>04B</td>\n",
       "      <td>2015</td>\n",
       "      <td>02/10/2018 15:50</td>\n",
       "    </tr>\n",
       "    <tr>\n",
       "      <th>1</th>\n",
       "      <td>10000094</td>\n",
       "      <td>HY190059</td>\n",
       "      <td>03/18/2015 11:00:00 PM</td>\n",
       "      <td>2300hr</td>\n",
       "      <td>03/18/2015</td>\n",
       "      <td>066XX S MARSHFIELD AVE</td>\n",
       "      <td>4625</td>\n",
       "      <td>OTHER OFFENSE</td>\n",
       "      <td>PAROLE VIOLATION</td>\n",
       "      <td>STREET</td>\n",
       "      <td>True</td>\n",
       "      <td>False</td>\n",
       "      <td>725</td>\n",
       "      <td>7</td>\n",
       "      <td>15.0</td>\n",
       "      <td>67.0</td>\n",
       "      <td>26</td>\n",
       "      <td>2015</td>\n",
       "      <td>02/10/2018 15:50</td>\n",
       "    </tr>\n",
       "    <tr>\n",
       "      <th>2</th>\n",
       "      <td>10000095</td>\n",
       "      <td>HY190052</td>\n",
       "      <td>03/18/2015 10:45:00 PM</td>\n",
       "      <td>2245hr</td>\n",
       "      <td>03/18/2015</td>\n",
       "      <td>044XX S LAKE PARK AVE</td>\n",
       "      <td>486</td>\n",
       "      <td>BATTERY</td>\n",
       "      <td>DOMESTIC BATTERY SIMPLE</td>\n",
       "      <td>APARTMENT</td>\n",
       "      <td>False</td>\n",
       "      <td>True</td>\n",
       "      <td>222</td>\n",
       "      <td>2</td>\n",
       "      <td>4.0</td>\n",
       "      <td>39.0</td>\n",
       "      <td>08B</td>\n",
       "      <td>2015</td>\n",
       "      <td>02/10/2018 15:50</td>\n",
       "    </tr>\n",
       "  </tbody>\n",
       "</table>\n",
       "</div>"
      ],
      "text/plain": [
       "         ID Case_Number           Date_and_Time    Time        Date  \\\n",
       "0  10000092    HY189866  03/18/2015 07:44:00 PM  1944hr  03/18/2015   \n",
       "1  10000094    HY190059  03/18/2015 11:00:00 PM  2300hr  03/18/2015   \n",
       "2  10000095    HY190052  03/18/2015 10:45:00 PM  2245hr  03/18/2015   \n",
       "\n",
       "                    Block  IUCR   Primary_Type              Description  \\\n",
       "0         047XX W OHIO ST  041A        BATTERY      AGGRAVATED: HANDGUN   \n",
       "1  066XX S MARSHFIELD AVE  4625  OTHER OFFENSE         PAROLE VIOLATION   \n",
       "2   044XX S LAKE PARK AVE   486        BATTERY  DOMESTIC BATTERY SIMPLE   \n",
       "\n",
       "  Location_Description  Arrest  Domestic  Beat District  Ward  Community_Area  \\\n",
       "0               STREET   False     False  1111       11  28.0            25.0   \n",
       "1               STREET    True     False   725        7  15.0            67.0   \n",
       "2            APARTMENT   False      True   222        2   4.0            39.0   \n",
       "\n",
       "  FBI_Code  Year        Updated_On  \n",
       "0      04B  2015  02/10/2018 15:50  \n",
       "1       26  2015  02/10/2018 15:50  \n",
       "2      08B  2015  02/10/2018 15:50  "
      ]
     },
     "execution_count": 31,
     "metadata": {},
     "output_type": "execute_result"
    }
   ],
   "source": [
    "df5.head(3)"
   ]
  },
  {
   "cell_type": "markdown",
   "metadata": {},
   "source": [
    "This code snippet slices the 'hr' off the times. I did this because I think it might make things easier"
   ]
  },
  {
   "cell_type": "code",
   "execution_count": 32,
   "metadata": {
    "collapsed": true
   },
   "outputs": [],
   "source": [
    "df5['Time'] = df5['Time'].str[:-2]\n",
    "    \n",
    "    \n",
    "    \n",
    "    "
   ]
  },
  {
   "cell_type": "code",
   "execution_count": 33,
   "metadata": {},
   "outputs": [
    {
     "data": {
      "text/html": [
       "<div>\n",
       "<style>\n",
       "    .dataframe thead tr:only-child th {\n",
       "        text-align: right;\n",
       "    }\n",
       "\n",
       "    .dataframe thead th {\n",
       "        text-align: left;\n",
       "    }\n",
       "\n",
       "    .dataframe tbody tr th {\n",
       "        vertical-align: top;\n",
       "    }\n",
       "</style>\n",
       "<table border=\"1\" class=\"dataframe\">\n",
       "  <thead>\n",
       "    <tr style=\"text-align: right;\">\n",
       "      <th></th>\n",
       "      <th>ID</th>\n",
       "      <th>Case_Number</th>\n",
       "      <th>Date_and_Time</th>\n",
       "      <th>Time</th>\n",
       "      <th>Date</th>\n",
       "      <th>Block</th>\n",
       "      <th>IUCR</th>\n",
       "      <th>Primary_Type</th>\n",
       "      <th>Description</th>\n",
       "      <th>Location_Description</th>\n",
       "      <th>Arrest</th>\n",
       "      <th>Domestic</th>\n",
       "      <th>Beat</th>\n",
       "      <th>District</th>\n",
       "      <th>Ward</th>\n",
       "      <th>Community_Area</th>\n",
       "      <th>FBI_Code</th>\n",
       "      <th>Year</th>\n",
       "      <th>Updated_On</th>\n",
       "    </tr>\n",
       "  </thead>\n",
       "  <tbody>\n",
       "    <tr>\n",
       "      <th>1048572</th>\n",
       "      <td>2391999</td>\n",
       "      <td>HH703000</td>\n",
       "      <td>10/09/2002 13:00</td>\n",
       "      <td>2500</td>\n",
       "      <td>10/09/2002</td>\n",
       "      <td>009XX W WEED ST</td>\n",
       "      <td>1320</td>\n",
       "      <td>CRIMINAL DAMAGE</td>\n",
       "      <td>TO VEHICLE</td>\n",
       "      <td>STREET</td>\n",
       "      <td>False</td>\n",
       "      <td>True</td>\n",
       "      <td>1822</td>\n",
       "      <td>18</td>\n",
       "      <td>32.0</td>\n",
       "      <td>8.0</td>\n",
       "      <td>14</td>\n",
       "      <td>2002</td>\n",
       "      <td>02/10/2018 15:50</td>\n",
       "    </tr>\n",
       "    <tr>\n",
       "      <th>1048573</th>\n",
       "      <td>2392000</td>\n",
       "      <td>HH703014</td>\n",
       "      <td>10/09/2002 14:40</td>\n",
       "      <td>2640</td>\n",
       "      <td>10/09/2002</td>\n",
       "      <td>013XX E 48TH ST</td>\n",
       "      <td>910</td>\n",
       "      <td>MOTOR VEHICLE THEFT</td>\n",
       "      <td>AUTOMOBILE</td>\n",
       "      <td>STREET</td>\n",
       "      <td>False</td>\n",
       "      <td>False</td>\n",
       "      <td>2124</td>\n",
       "      <td>2</td>\n",
       "      <td>4.0</td>\n",
       "      <td>39.0</td>\n",
       "      <td>7</td>\n",
       "      <td>2002</td>\n",
       "      <td>02/10/2018 15:50</td>\n",
       "    </tr>\n",
       "    <tr>\n",
       "      <th>1048574</th>\n",
       "      <td>2392001</td>\n",
       "      <td>HH595231</td>\n",
       "      <td>08/21/2002 05:45:00 AM</td>\n",
       "      <td>0545</td>\n",
       "      <td>08/21/2002</td>\n",
       "      <td>031XX S LAKE SHORE DR NB</td>\n",
       "      <td>910</td>\n",
       "      <td>MOTOR VEHICLE THEFT</td>\n",
       "      <td>AUTOMOBILE</td>\n",
       "      <td>OTHER</td>\n",
       "      <td>False</td>\n",
       "      <td>False</td>\n",
       "      <td>2122</td>\n",
       "      <td>2</td>\n",
       "      <td>4.0</td>\n",
       "      <td>35.0</td>\n",
       "      <td>7</td>\n",
       "      <td>2002</td>\n",
       "      <td>02/10/2018 15:50</td>\n",
       "    </tr>\n",
       "  </tbody>\n",
       "</table>\n",
       "</div>"
      ],
      "text/plain": [
       "              ID Case_Number           Date_and_Time   Time        Date  \\\n",
       "1048572  2391999    HH703000        10/09/2002 13:00   2500  10/09/2002   \n",
       "1048573  2392000    HH703014        10/09/2002 14:40   2640  10/09/2002   \n",
       "1048574  2392001    HH595231  08/21/2002 05:45:00 AM   0545  08/21/2002   \n",
       "\n",
       "                            Block  IUCR         Primary_Type Description  \\\n",
       "1048572           009XX W WEED ST  1320      CRIMINAL DAMAGE  TO VEHICLE   \n",
       "1048573           013XX E 48TH ST   910  MOTOR VEHICLE THEFT  AUTOMOBILE   \n",
       "1048574  031XX S LAKE SHORE DR NB   910  MOTOR VEHICLE THEFT  AUTOMOBILE   \n",
       "\n",
       "        Location_Description  Arrest  Domestic  Beat District  Ward  \\\n",
       "1048572               STREET   False      True  1822       18  32.0   \n",
       "1048573               STREET   False     False  2124        2   4.0   \n",
       "1048574                OTHER   False     False  2122        2   4.0   \n",
       "\n",
       "         Community_Area FBI_Code  Year        Updated_On  \n",
       "1048572             8.0       14  2002  02/10/2018 15:50  \n",
       "1048573            39.0        7  2002  02/10/2018 15:50  \n",
       "1048574            35.0        7  2002  02/10/2018 15:50  "
      ]
     },
     "execution_count": 33,
     "metadata": {},
     "output_type": "execute_result"
    }
   ],
   "source": [
    "df5.tail(3)"
   ]
  },
  {
   "cell_type": "markdown",
   "metadata": {},
   "source": [
    "A certain time format in the column time did not change properly. This code rectifies that issue"
   ]
  },
  {
   "cell_type": "code",
   "execution_count": 34,
   "metadata": {
    "collapsed": true
   },
   "outputs": [],
   "source": [
    "for x in range(len(df5)):\n",
    "    index = df5.iloc[x].name\n",
    "    time = df5.Time.iloc[x]\n",
    "    \n",
    "    [test] = time.split()\n",
    "    temp = int(test)\n",
    "    if temp > 2399:\n",
    "        temp = temp - 1200\n",
    "        \n",
    "    result = str(temp)\n",
    "    \n",
    "    df5.set_value(index, \"Time\", result)\n",
    "    "
   ]
  },
  {
   "cell_type": "code",
   "execution_count": 35,
   "metadata": {},
   "outputs": [
    {
     "data": {
      "text/html": [
       "<div>\n",
       "<style>\n",
       "    .dataframe thead tr:only-child th {\n",
       "        text-align: right;\n",
       "    }\n",
       "\n",
       "    .dataframe thead th {\n",
       "        text-align: left;\n",
       "    }\n",
       "\n",
       "    .dataframe tbody tr th {\n",
       "        vertical-align: top;\n",
       "    }\n",
       "</style>\n",
       "<table border=\"1\" class=\"dataframe\">\n",
       "  <thead>\n",
       "    <tr style=\"text-align: right;\">\n",
       "      <th></th>\n",
       "      <th>ID</th>\n",
       "      <th>Case_Number</th>\n",
       "      <th>Date_and_Time</th>\n",
       "      <th>Time</th>\n",
       "      <th>Date</th>\n",
       "      <th>Block</th>\n",
       "      <th>IUCR</th>\n",
       "      <th>Primary_Type</th>\n",
       "      <th>Description</th>\n",
       "      <th>Location_Description</th>\n",
       "      <th>Arrest</th>\n",
       "      <th>Domestic</th>\n",
       "      <th>Beat</th>\n",
       "      <th>District</th>\n",
       "      <th>Ward</th>\n",
       "      <th>Community_Area</th>\n",
       "      <th>FBI_Code</th>\n",
       "      <th>Year</th>\n",
       "      <th>Updated_On</th>\n",
       "    </tr>\n",
       "  </thead>\n",
       "  <tbody>\n",
       "    <tr>\n",
       "      <th>1048572</th>\n",
       "      <td>2391999</td>\n",
       "      <td>HH703000</td>\n",
       "      <td>10/09/2002 13:00</td>\n",
       "      <td>1300</td>\n",
       "      <td>10/09/2002</td>\n",
       "      <td>009XX W WEED ST</td>\n",
       "      <td>1320</td>\n",
       "      <td>CRIMINAL DAMAGE</td>\n",
       "      <td>TO VEHICLE</td>\n",
       "      <td>STREET</td>\n",
       "      <td>False</td>\n",
       "      <td>True</td>\n",
       "      <td>1822</td>\n",
       "      <td>18</td>\n",
       "      <td>32.0</td>\n",
       "      <td>8.0</td>\n",
       "      <td>14</td>\n",
       "      <td>2002</td>\n",
       "      <td>02/10/2018 15:50</td>\n",
       "    </tr>\n",
       "    <tr>\n",
       "      <th>1048573</th>\n",
       "      <td>2392000</td>\n",
       "      <td>HH703014</td>\n",
       "      <td>10/09/2002 14:40</td>\n",
       "      <td>1440</td>\n",
       "      <td>10/09/2002</td>\n",
       "      <td>013XX E 48TH ST</td>\n",
       "      <td>910</td>\n",
       "      <td>MOTOR VEHICLE THEFT</td>\n",
       "      <td>AUTOMOBILE</td>\n",
       "      <td>STREET</td>\n",
       "      <td>False</td>\n",
       "      <td>False</td>\n",
       "      <td>2124</td>\n",
       "      <td>2</td>\n",
       "      <td>4.0</td>\n",
       "      <td>39.0</td>\n",
       "      <td>7</td>\n",
       "      <td>2002</td>\n",
       "      <td>02/10/2018 15:50</td>\n",
       "    </tr>\n",
       "    <tr>\n",
       "      <th>1048574</th>\n",
       "      <td>2392001</td>\n",
       "      <td>HH595231</td>\n",
       "      <td>08/21/2002 05:45:00 AM</td>\n",
       "      <td>545</td>\n",
       "      <td>08/21/2002</td>\n",
       "      <td>031XX S LAKE SHORE DR NB</td>\n",
       "      <td>910</td>\n",
       "      <td>MOTOR VEHICLE THEFT</td>\n",
       "      <td>AUTOMOBILE</td>\n",
       "      <td>OTHER</td>\n",
       "      <td>False</td>\n",
       "      <td>False</td>\n",
       "      <td>2122</td>\n",
       "      <td>2</td>\n",
       "      <td>4.0</td>\n",
       "      <td>35.0</td>\n",
       "      <td>7</td>\n",
       "      <td>2002</td>\n",
       "      <td>02/10/2018 15:50</td>\n",
       "    </tr>\n",
       "  </tbody>\n",
       "</table>\n",
       "</div>"
      ],
      "text/plain": [
       "              ID Case_Number           Date_and_Time  Time        Date  \\\n",
       "1048572  2391999    HH703000        10/09/2002 13:00  1300  10/09/2002   \n",
       "1048573  2392000    HH703014        10/09/2002 14:40  1440  10/09/2002   \n",
       "1048574  2392001    HH595231  08/21/2002 05:45:00 AM   545  08/21/2002   \n",
       "\n",
       "                            Block  IUCR         Primary_Type Description  \\\n",
       "1048572           009XX W WEED ST  1320      CRIMINAL DAMAGE  TO VEHICLE   \n",
       "1048573           013XX E 48TH ST   910  MOTOR VEHICLE THEFT  AUTOMOBILE   \n",
       "1048574  031XX S LAKE SHORE DR NB   910  MOTOR VEHICLE THEFT  AUTOMOBILE   \n",
       "\n",
       "        Location_Description  Arrest  Domestic  Beat District  Ward  \\\n",
       "1048572               STREET   False      True  1822       18  32.0   \n",
       "1048573               STREET   False     False  2124        2   4.0   \n",
       "1048574                OTHER   False     False  2122        2   4.0   \n",
       "\n",
       "         Community_Area FBI_Code  Year        Updated_On  \n",
       "1048572             8.0       14  2002  02/10/2018 15:50  \n",
       "1048573            39.0        7  2002  02/10/2018 15:50  \n",
       "1048574            35.0        7  2002  02/10/2018 15:50  "
      ]
     },
     "execution_count": 35,
     "metadata": {},
     "output_type": "execute_result"
    }
   ],
   "source": [
    "df5.tail(3)"
   ]
  },
  {
   "cell_type": "markdown",
   "metadata": {},
   "source": [
    "When I converted the time format in to string in the previous function temporarily, it got rid of the leading zeros in the time. E.g. (0009 changed to 9). This script solves that issue"
   ]
  },
  {
   "cell_type": "code",
   "execution_count": 36,
   "metadata": {
    "collapsed": true
   },
   "outputs": [],
   "source": [
    "for x in range(len(df5)):\n",
    "    index = df5.iloc[x].name\n",
    "    time = df5.Time.iloc[x]\n",
    "    \n",
    "    [hold] = time.split()\n",
    "    x = '0'\n",
    "    \n",
    "    if len(hold) < 4:\n",
    "        hold = x + hold\n",
    "        \n",
    "    if len(hold) < 3:\n",
    "        hold = x + x + hold\n",
    "        \n",
    "    if len(hold) < 2:\n",
    "        hold = x + x + x + hold\n",
    "\n",
    "      \n",
    "        \n",
    "    df5.set_value(index, \"Time\", hold)"
   ]
  },
  {
   "cell_type": "code",
   "execution_count": 37,
   "metadata": {},
   "outputs": [
    {
     "data": {
      "text/html": [
       "<div>\n",
       "<style>\n",
       "    .dataframe thead tr:only-child th {\n",
       "        text-align: right;\n",
       "    }\n",
       "\n",
       "    .dataframe thead th {\n",
       "        text-align: left;\n",
       "    }\n",
       "\n",
       "    .dataframe tbody tr th {\n",
       "        vertical-align: top;\n",
       "    }\n",
       "</style>\n",
       "<table border=\"1\" class=\"dataframe\">\n",
       "  <thead>\n",
       "    <tr style=\"text-align: right;\">\n",
       "      <th></th>\n",
       "      <th>ID</th>\n",
       "      <th>Case_Number</th>\n",
       "      <th>Date_and_Time</th>\n",
       "      <th>Time</th>\n",
       "      <th>Date</th>\n",
       "      <th>Block</th>\n",
       "      <th>IUCR</th>\n",
       "      <th>Primary_Type</th>\n",
       "      <th>Description</th>\n",
       "      <th>Location_Description</th>\n",
       "      <th>Arrest</th>\n",
       "      <th>Domestic</th>\n",
       "      <th>Beat</th>\n",
       "      <th>District</th>\n",
       "      <th>Ward</th>\n",
       "      <th>Community_Area</th>\n",
       "      <th>FBI_Code</th>\n",
       "      <th>Year</th>\n",
       "      <th>Updated_On</th>\n",
       "    </tr>\n",
       "  </thead>\n",
       "  <tbody>\n",
       "    <tr>\n",
       "      <th>0</th>\n",
       "      <td>10000092</td>\n",
       "      <td>HY189866</td>\n",
       "      <td>03/18/2015 07:44:00 PM</td>\n",
       "      <td>1944</td>\n",
       "      <td>03/18/2015</td>\n",
       "      <td>047XX W OHIO ST</td>\n",
       "      <td>041A</td>\n",
       "      <td>BATTERY</td>\n",
       "      <td>AGGRAVATED: HANDGUN</td>\n",
       "      <td>STREET</td>\n",
       "      <td>False</td>\n",
       "      <td>False</td>\n",
       "      <td>1111</td>\n",
       "      <td>11</td>\n",
       "      <td>28.0</td>\n",
       "      <td>25.0</td>\n",
       "      <td>04B</td>\n",
       "      <td>2015</td>\n",
       "      <td>02/10/2018 15:50</td>\n",
       "    </tr>\n",
       "    <tr>\n",
       "      <th>1</th>\n",
       "      <td>10000094</td>\n",
       "      <td>HY190059</td>\n",
       "      <td>03/18/2015 11:00:00 PM</td>\n",
       "      <td>2300</td>\n",
       "      <td>03/18/2015</td>\n",
       "      <td>066XX S MARSHFIELD AVE</td>\n",
       "      <td>4625</td>\n",
       "      <td>OTHER OFFENSE</td>\n",
       "      <td>PAROLE VIOLATION</td>\n",
       "      <td>STREET</td>\n",
       "      <td>True</td>\n",
       "      <td>False</td>\n",
       "      <td>725</td>\n",
       "      <td>7</td>\n",
       "      <td>15.0</td>\n",
       "      <td>67.0</td>\n",
       "      <td>26</td>\n",
       "      <td>2015</td>\n",
       "      <td>02/10/2018 15:50</td>\n",
       "    </tr>\n",
       "    <tr>\n",
       "      <th>2</th>\n",
       "      <td>10000095</td>\n",
       "      <td>HY190052</td>\n",
       "      <td>03/18/2015 10:45:00 PM</td>\n",
       "      <td>2245</td>\n",
       "      <td>03/18/2015</td>\n",
       "      <td>044XX S LAKE PARK AVE</td>\n",
       "      <td>486</td>\n",
       "      <td>BATTERY</td>\n",
       "      <td>DOMESTIC BATTERY SIMPLE</td>\n",
       "      <td>APARTMENT</td>\n",
       "      <td>False</td>\n",
       "      <td>True</td>\n",
       "      <td>222</td>\n",
       "      <td>2</td>\n",
       "      <td>4.0</td>\n",
       "      <td>39.0</td>\n",
       "      <td>08B</td>\n",
       "      <td>2015</td>\n",
       "      <td>02/10/2018 15:50</td>\n",
       "    </tr>\n",
       "  </tbody>\n",
       "</table>\n",
       "</div>"
      ],
      "text/plain": [
       "         ID Case_Number           Date_and_Time  Time        Date  \\\n",
       "0  10000092    HY189866  03/18/2015 07:44:00 PM  1944  03/18/2015   \n",
       "1  10000094    HY190059  03/18/2015 11:00:00 PM  2300  03/18/2015   \n",
       "2  10000095    HY190052  03/18/2015 10:45:00 PM  2245  03/18/2015   \n",
       "\n",
       "                    Block  IUCR   Primary_Type              Description  \\\n",
       "0         047XX W OHIO ST  041A        BATTERY      AGGRAVATED: HANDGUN   \n",
       "1  066XX S MARSHFIELD AVE  4625  OTHER OFFENSE         PAROLE VIOLATION   \n",
       "2   044XX S LAKE PARK AVE   486        BATTERY  DOMESTIC BATTERY SIMPLE   \n",
       "\n",
       "  Location_Description  Arrest  Domestic  Beat District  Ward  Community_Area  \\\n",
       "0               STREET   False     False  1111       11  28.0            25.0   \n",
       "1               STREET    True     False   725        7  15.0            67.0   \n",
       "2            APARTMENT   False      True   222        2   4.0            39.0   \n",
       "\n",
       "  FBI_Code  Year        Updated_On  \n",
       "0      04B  2015  02/10/2018 15:50  \n",
       "1       26  2015  02/10/2018 15:50  \n",
       "2      08B  2015  02/10/2018 15:50  "
      ]
     },
     "execution_count": 37,
     "metadata": {},
     "output_type": "execute_result"
    }
   ],
   "source": [
    "df5.head(3)"
   ]
  },
  {
   "cell_type": "code",
   "execution_count": 38,
   "metadata": {
    "collapsed": true
   },
   "outputs": [],
   "source": [
    "df8 = df5"
   ]
  },
  {
   "cell_type": "code",
   "execution_count": 39,
   "metadata": {
    "scrolled": true
   },
   "outputs": [
    {
     "data": {
      "text/html": [
       "<div>\n",
       "<style>\n",
       "    .dataframe thead tr:only-child th {\n",
       "        text-align: right;\n",
       "    }\n",
       "\n",
       "    .dataframe thead th {\n",
       "        text-align: left;\n",
       "    }\n",
       "\n",
       "    .dataframe tbody tr th {\n",
       "        vertical-align: top;\n",
       "    }\n",
       "</style>\n",
       "<table border=\"1\" class=\"dataframe\">\n",
       "  <thead>\n",
       "    <tr style=\"text-align: right;\">\n",
       "      <th></th>\n",
       "      <th>ID</th>\n",
       "      <th>Case_Number</th>\n",
       "      <th>Date_and_Time</th>\n",
       "      <th>Time</th>\n",
       "      <th>Date</th>\n",
       "      <th>Block</th>\n",
       "      <th>IUCR</th>\n",
       "      <th>Primary_Type</th>\n",
       "      <th>Description</th>\n",
       "      <th>Location_Description</th>\n",
       "      <th>Arrest</th>\n",
       "      <th>Domestic</th>\n",
       "      <th>Beat</th>\n",
       "      <th>District</th>\n",
       "      <th>Ward</th>\n",
       "      <th>Community_Area</th>\n",
       "      <th>FBI_Code</th>\n",
       "      <th>Year</th>\n",
       "      <th>Updated_On</th>\n",
       "    </tr>\n",
       "  </thead>\n",
       "  <tbody>\n",
       "    <tr>\n",
       "      <th>0</th>\n",
       "      <td>10000092</td>\n",
       "      <td>HY189866</td>\n",
       "      <td>03/18/2015 07:44:00 PM</td>\n",
       "      <td>1944</td>\n",
       "      <td>03/18/2015</td>\n",
       "      <td>047XX W OHIO ST</td>\n",
       "      <td>041A</td>\n",
       "      <td>BATTERY</td>\n",
       "      <td>AGGRAVATED: HANDGUN</td>\n",
       "      <td>STREET</td>\n",
       "      <td>False</td>\n",
       "      <td>False</td>\n",
       "      <td>1111</td>\n",
       "      <td>11</td>\n",
       "      <td>28.0</td>\n",
       "      <td>25.0</td>\n",
       "      <td>04B</td>\n",
       "      <td>2015</td>\n",
       "      <td>02/10/2018 15:50</td>\n",
       "    </tr>\n",
       "    <tr>\n",
       "      <th>1</th>\n",
       "      <td>10000094</td>\n",
       "      <td>HY190059</td>\n",
       "      <td>03/18/2015 11:00:00 PM</td>\n",
       "      <td>2300</td>\n",
       "      <td>03/18/2015</td>\n",
       "      <td>066XX S MARSHFIELD AVE</td>\n",
       "      <td>4625</td>\n",
       "      <td>OTHER OFFENSE</td>\n",
       "      <td>PAROLE VIOLATION</td>\n",
       "      <td>STREET</td>\n",
       "      <td>True</td>\n",
       "      <td>False</td>\n",
       "      <td>725</td>\n",
       "      <td>7</td>\n",
       "      <td>15.0</td>\n",
       "      <td>67.0</td>\n",
       "      <td>26</td>\n",
       "      <td>2015</td>\n",
       "      <td>02/10/2018 15:50</td>\n",
       "    </tr>\n",
       "    <tr>\n",
       "      <th>2</th>\n",
       "      <td>10000095</td>\n",
       "      <td>HY190052</td>\n",
       "      <td>03/18/2015 10:45:00 PM</td>\n",
       "      <td>2245</td>\n",
       "      <td>03/18/2015</td>\n",
       "      <td>044XX S LAKE PARK AVE</td>\n",
       "      <td>486</td>\n",
       "      <td>BATTERY</td>\n",
       "      <td>DOMESTIC BATTERY SIMPLE</td>\n",
       "      <td>APARTMENT</td>\n",
       "      <td>False</td>\n",
       "      <td>True</td>\n",
       "      <td>222</td>\n",
       "      <td>2</td>\n",
       "      <td>4.0</td>\n",
       "      <td>39.0</td>\n",
       "      <td>08B</td>\n",
       "      <td>2015</td>\n",
       "      <td>02/10/2018 15:50</td>\n",
       "    </tr>\n",
       "  </tbody>\n",
       "</table>\n",
       "</div>"
      ],
      "text/plain": [
       "         ID Case_Number           Date_and_Time  Time        Date  \\\n",
       "0  10000092    HY189866  03/18/2015 07:44:00 PM  1944  03/18/2015   \n",
       "1  10000094    HY190059  03/18/2015 11:00:00 PM  2300  03/18/2015   \n",
       "2  10000095    HY190052  03/18/2015 10:45:00 PM  2245  03/18/2015   \n",
       "\n",
       "                    Block  IUCR   Primary_Type              Description  \\\n",
       "0         047XX W OHIO ST  041A        BATTERY      AGGRAVATED: HANDGUN   \n",
       "1  066XX S MARSHFIELD AVE  4625  OTHER OFFENSE         PAROLE VIOLATION   \n",
       "2   044XX S LAKE PARK AVE   486        BATTERY  DOMESTIC BATTERY SIMPLE   \n",
       "\n",
       "  Location_Description  Arrest  Domestic  Beat District  Ward  Community_Area  \\\n",
       "0               STREET   False     False  1111       11  28.0            25.0   \n",
       "1               STREET    True     False   725        7  15.0            67.0   \n",
       "2            APARTMENT   False      True   222        2   4.0            39.0   \n",
       "\n",
       "  FBI_Code  Year        Updated_On  \n",
       "0      04B  2015  02/10/2018 15:50  \n",
       "1       26  2015  02/10/2018 15:50  \n",
       "2      08B  2015  02/10/2018 15:50  "
      ]
     },
     "execution_count": 39,
     "metadata": {},
     "output_type": "execute_result"
    }
   ],
   "source": [
    "df8.head(3)"
   ]
  },
  {
   "cell_type": "code",
   "execution_count": 40,
   "metadata": {
    "scrolled": true
   },
   "outputs": [
    {
     "name": "stdout",
     "output_type": "stream",
     "text": [
      "<class 'pandas.core.frame.DataFrame'>\n",
      "RangeIndex: 1048575 entries, 0 to 1048574\n",
      "Data columns (total 19 columns):\n",
      "ID                      1048575 non-null int64\n",
      "Case_Number             1048575 non-null object\n",
      "Date_and_Time           1048575 non-null object\n",
      "Time                    1048575 non-null object\n",
      "Date                    1048575 non-null object\n",
      "Block                   1048575 non-null object\n",
      "IUCR                    1048575 non-null object\n",
      "Primary_Type            1048575 non-null object\n",
      "Description             1048575 non-null object\n",
      "Location_Description    1048575 non-null object\n",
      "Arrest                  1048575 non-null bool\n",
      "Domestic                1048575 non-null bool\n",
      "Beat                    1048575 non-null int64\n",
      "District                1048575 non-null object\n",
      "Ward                    1048575 non-null float64\n",
      "Community_Area          1048575 non-null float64\n",
      "FBI_Code                1048575 non-null object\n",
      "Year                    1048575 non-null int64\n",
      "Updated_On              1048575 non-null object\n",
      "dtypes: bool(2), float64(2), int64(3), object(12)\n",
      "memory usage: 138.0+ MB\n"
     ]
    }
   ],
   "source": [
    "df8.info()"
   ]
  },
  {
   "cell_type": "markdown",
   "metadata": {},
   "source": [
    "Data Analysis and Interpretation"
   ]
  },
  {
   "cell_type": "markdown",
   "metadata": {},
   "source": [
    "This script has 24 variables that act as counters for 24 time intervals. The script loops through the file and slices the first 2 characters in the new 'Time' column. The counter that gets incremented depends on the value of the sliced string. (E.g. if the sliced string is '05' then the variable for times between 05:00 and 06:00 is incremented. Please note that this script takes a few mins to complete due to the size of the dataset."
   ]
  },
  {
   "cell_type": "code",
   "execution_count": 41,
   "metadata": {
    "collapsed": true
   },
   "outputs": [],
   "source": [
    "var0 = 0\n",
    "var1 = 0\n",
    "var2 = 0\n",
    "var3 = 0\n",
    "var4 = 0\n",
    "var5 = 0\n",
    "var6 = 0\n",
    "var7 = 0\n",
    "var8 = 0\n",
    "var9 = 0\n",
    "var10 = 0\n",
    "var11 = 0\n",
    "var12 = 0\n",
    "var13 = 0\n",
    "var14 = 0\n",
    "var15 = 0\n",
    "var16 = 0\n",
    "var17 = 0\n",
    "var18 = 0\n",
    "var19 = 0\n",
    "var20 = 0\n",
    "var21 = 0\n",
    "var22 = 0\n",
    "var23 = 0\n",
    "for x in range(len(df8)):\n",
    "    time = df8.Time.iloc[x]\n",
    "    \n",
    "    \n",
    "    \n",
    "    loop = time\n",
    "    \n",
    "    \n",
    "    \n",
    "    if loop[:-2] == '00':\n",
    "        var0 += 1\n",
    "        \n",
    "    if loop[:-2] == '01':\n",
    "        var1 += 1    \n",
    "        \n",
    "    if loop[:-2] == '02':\n",
    "        var2 += 1\n",
    "        \n",
    "    if loop[:-2] == '03':\n",
    "        var3 += 1    \n",
    "        \n",
    "    if loop[:-2] == '04':\n",
    "        var4 += 1    \n",
    "        \n",
    "    if loop[:-2] == '05':\n",
    "        var5 += 1    \n",
    "    \n",
    "    if loop[:-2] == '06':\n",
    "        var6 += 1\n",
    "    \n",
    "    if loop[:-2] == '07':\n",
    "        var7 += 1\n",
    "    \n",
    "    if loop[:-2] == '08':\n",
    "        var8 += 1\n",
    "    \n",
    "    if loop[:-2] == '09':\n",
    "        var9 += 1\n",
    "    \n",
    "    if loop[:-2] == '10':\n",
    "        var10 += 1\n",
    "    \n",
    "    if loop[:-2] == '11':\n",
    "        var11 += 1\n",
    "    \n",
    "    if loop[:-2] == '12':\n",
    "        var12 += 1\n",
    "    \n",
    "    if loop[:-2] == '13':\n",
    "        var13 += 1\n",
    "    \n",
    "    if loop[:-2] == '14':\n",
    "        var14 += 1\n",
    "    \n",
    "    if loop[:-2] == '15':\n",
    "        var15 += 1\n",
    "    \n",
    "    if loop[:-2] == '16':\n",
    "        var16 += 1\n",
    "            \n",
    "    if loop[:-2] == '17':\n",
    "        var17 += 1\n",
    "    \n",
    "    if loop[:-2] == '18':\n",
    "        var18 += 1\n",
    "        \n",
    "    if loop[:-2] == '19':\n",
    "        var19 += 1    \n",
    "        \n",
    "    if loop[:-2] == '20':\n",
    "        var20 += 1    \n",
    "        \n",
    "    if loop[:-2] == '21':\n",
    "        var21 += 1    \n",
    "        \n",
    "    if loop[:-2] == '22':\n",
    "        var22 += 1\n",
    "        \n",
    "    if loop[:-2] == '23':\n",
    "        var23 += 1    \n",
    "        \n",
    "        "
   ]
  },
  {
   "cell_type": "markdown",
   "metadata": {},
   "source": [
    "This stores the results of the previous script in a dataframe"
   ]
  },
  {
   "cell_type": "code",
   "execution_count": 42,
   "metadata": {
    "collapsed": true
   },
   "outputs": [],
   "source": [
    "df22 = pd.DataFrame({'00:00-01:00': [var0], '01:00-02:00': [var1], '02:00-03:00': [var2], '03:00-04:00': [var3], '04:00-05:00': [var4], '05:00-06:00': [var5], '06:00-07:00': [var6], '07:00-08:00': [var7], '08:00-09:00': [var8], '09:00-10:00': [var9], '10:00-11:00': [var10], '11:00-12:00': [var11], '12:00-13:00': [var12], '13:00-14:00': [var13], '14:00-15:00': [var14], '15:00-16:00': [var15], '16:00-17:00': [var16], '17:00-18:00': [var17], '18:00-19:00': [var18], '19:00-20:00': [var19], '20:00-21:00': [var20], '21:00-22:00': [var21], '22:00-23:00': [var22], '23:00-00:00': [var23]})\n"
   ]
  },
  {
   "cell_type": "markdown",
   "metadata": {},
   "source": [
    "Sorts values to see which interval is the highest"
   ]
  },
  {
   "cell_type": "code",
   "execution_count": 43,
   "metadata": {},
   "outputs": [
    {
     "data": {
      "text/html": [
       "<div>\n",
       "<style>\n",
       "    .dataframe thead tr:only-child th {\n",
       "        text-align: right;\n",
       "    }\n",
       "\n",
       "    .dataframe thead th {\n",
       "        text-align: left;\n",
       "    }\n",
       "\n",
       "    .dataframe tbody tr th {\n",
       "        vertical-align: top;\n",
       "    }\n",
       "</style>\n",
       "<table border=\"1\" class=\"dataframe\">\n",
       "  <thead>\n",
       "    <tr style=\"text-align: right;\">\n",
       "      <th></th>\n",
       "      <th>12:00-13:00</th>\n",
       "      <th>21:00-22:00</th>\n",
       "      <th>20:00-21:00</th>\n",
       "      <th>22:00-23:00</th>\n",
       "      <th>19:00-20:00</th>\n",
       "      <th>18:00-19:00</th>\n",
       "      <th>15:00-16:00</th>\n",
       "      <th>14:00-15:00</th>\n",
       "      <th>17:00-18:00</th>\n",
       "      <th>16:00-17:00</th>\n",
       "      <th>...</th>\n",
       "      <th>10:00-11:00</th>\n",
       "      <th>08:00-09:00</th>\n",
       "      <th>01:00-02:00</th>\n",
       "      <th>02:00-03:00</th>\n",
       "      <th>07:00-08:00</th>\n",
       "      <th>03:00-04:00</th>\n",
       "      <th>04:00-05:00</th>\n",
       "      <th>06:00-07:00</th>\n",
       "      <th>05:00-06:00</th>\n",
       "      <th>00:00-01:00</th>\n",
       "    </tr>\n",
       "  </thead>\n",
       "  <tbody>\n",
       "    <tr>\n",
       "      <th>0</th>\n",
       "      <td>104001</td>\n",
       "      <td>67606</td>\n",
       "      <td>67209</td>\n",
       "      <td>66691</td>\n",
       "      <td>65558</td>\n",
       "      <td>64542</td>\n",
       "      <td>61075</td>\n",
       "      <td>59457</td>\n",
       "      <td>59163</td>\n",
       "      <td>58273</td>\n",
       "      <td>...</td>\n",
       "      <td>34076</td>\n",
       "      <td>26952</td>\n",
       "      <td>24367</td>\n",
       "      <td>21156</td>\n",
       "      <td>18542</td>\n",
       "      <td>17403</td>\n",
       "      <td>13426</td>\n",
       "      <td>13087</td>\n",
       "      <td>11363</td>\n",
       "      <td>5611</td>\n",
       "    </tr>\n",
       "  </tbody>\n",
       "</table>\n",
       "<p>1 rows × 24 columns</p>\n",
       "</div>"
      ],
      "text/plain": [
       "   12:00-13:00  21:00-22:00  20:00-21:00  22:00-23:00  19:00-20:00  \\\n",
       "0       104001        67606        67209        66691        65558   \n",
       "\n",
       "   18:00-19:00  15:00-16:00  14:00-15:00  17:00-18:00  16:00-17:00  \\\n",
       "0        64542        61075        59457        59163        58273   \n",
       "\n",
       "      ...       10:00-11:00  08:00-09:00  01:00-02:00  02:00-03:00  \\\n",
       "0     ...             34076        26952        24367        21156   \n",
       "\n",
       "   07:00-08:00  03:00-04:00  04:00-05:00  06:00-07:00  05:00-06:00  \\\n",
       "0        18542        17403        13426        13087        11363   \n",
       "\n",
       "   00:00-01:00  \n",
       "0         5611  \n",
       "\n",
       "[1 rows x 24 columns]"
      ]
     },
     "execution_count": 43,
     "metadata": {},
     "output_type": "execute_result"
    }
   ],
   "source": [
    "df22.sort_values(by=0, ascending = False, axis = 1)"
   ]
  },
  {
   "cell_type": "markdown",
   "metadata": {},
   "source": [
    "This plot shows the number of crimes recorded as the 24 hour day progresses. A surprising result is that the time interval of 12:00 - 13:00 is the highest, I expected it to be around midnight when most people are asleep, not in the middle of the day when everyone is awake"
   ]
  },
  {
   "cell_type": "code",
   "execution_count": 44,
   "metadata": {},
   "outputs": [
    {
     "data": {
      "image/png": "[encoded data removed]",
      "text/plain": [
       "<Figure size 432x288 with 1 Axes>"
      ]
     },
     "metadata": {},
     "output_type": "display_data"
    }
   ],
   "source": [
    "row = df22.iloc[0]\n",
    "row.plot(kind = 'line', title = 'Number of crimes at certain times in the day')\n",
    "plt.show()"
   ]
  },
  {
   "cell_type": "markdown",
   "metadata": {},
   "source": [
    "This graph below shows the year in which there were the most crimes in Chicago. It appears 2002 is the year with the most crimes. One thing to note about 2018's position on the graph is that it is only for 2/3 months of the year.    "
   ]
  },
  {
   "cell_type": "code",
   "execution_count": 45,
   "metadata": {},
   "outputs": [
    {
     "data": {
      "text/plain": [
       "<matplotlib.axes._subplots.AxesSubplot at 0x1438409bc18>"
      ]
     },
     "execution_count": 45,
     "metadata": {},
     "output_type": "execute_result"
    },
    {
     "data": {
      "image/png": "[encoded data removed]",
      "text/plain": [
       "<Figure size 1008x504 with 1 Axes>"
      ]
     },
     "metadata": {},
     "output_type": "display_data"
    }
   ],
   "source": [
    "df8[\"Year\"].value_counts().nlargest(10).plot(kind='bar',color='green',figsize=(14,7),fontsize=14)"
   ]
  },
  {
   "cell_type": "markdown",
   "metadata": {},
   "source": [
    "This graph below shows where most crimes occur in the city. Unsurprisingly, most crimes occure on the streets. A surprise would be that more crimes do not happen in small retail stores as they would be seen as easy targets."
   ]
  },
  {
   "cell_type": "code",
   "execution_count": 47,
   "metadata": {},
   "outputs": [
    {
     "data": {
      "text/plain": [
       "<matplotlib.axes._subplots.AxesSubplot at 0x1438095cef0>"
      ]
     },
     "execution_count": 47,
     "metadata": {},
     "output_type": "execute_result"
    },
    {
     "data": {
      "image/png": "[encoded data removed]",
      "text/plain": [
       "<Figure size 1008x504 with 1 Axes>"
      ]
     },
     "metadata": {},
     "output_type": "display_data"
    }
   ],
   "source": [
    "df8[\"Location_Description\"].value_counts().nlargest(10).plot(kind='bar',color='gold',figsize=(14,7),fontsize=14, title = \"Which location do most crimes occur?\")"
   ]
  },
  {
   "cell_type": "markdown",
   "metadata": {},
   "source": [
    "This graph below shows which community areas have the least amount of crimes. Chicago has 77 community areas in total(according to the dataset information)."
   ]
  },
  {
   "cell_type": "code",
   "execution_count": 48,
   "metadata": {},
   "outputs": [
    {
     "data": {
      "text/plain": [
       "<matplotlib.axes._subplots.AxesSubplot at 0x14380f7f128>"
      ]
     },
     "execution_count": 48,
     "metadata": {},
     "output_type": "execute_result"
    },
    {
     "data": {
      "image/png": "[encoded data removed]",
      "text/plain": [
       "<Figure size 1008x504 with 1 Axes>"
      ]
     },
     "metadata": {},
     "output_type": "display_data"
    }
   ],
   "source": [
    "df8[\"Community_Area\"].value_counts().nsmallest(10).plot(kind='bar',color='blue',figsize=(14,7),fontsize=14, title = 'Which community area is the safest? (Least amount of crimes)')"
   ]
  },
  {
   "cell_type": "markdown",
   "metadata": {},
   "source": [
    "After parsing the date and time columns, I realised I could find the date when the most crimes occured. After discivering that 2002 was the year with the highest amount of crimes, I am not surprised to find the top 10 dates were in that year. The one I find most interesting is the second highest bar which is New Years Day 2002, because of possible new years resolutions that did not seem to apply to a lot of people. Another interesting point is that there are 3 dates(1st, 6th and 8th of Jan 2002) that all feature in the top 10 that are very close to each other"
   ]
  },
  {
   "cell_type": "code",
   "execution_count": 49,
   "metadata": {},
   "outputs": [
    {
     "data": {
      "text/plain": [
       "<matplotlib.axes._subplots.AxesSubplot at 0x14380bcf7f0>"
      ]
     },
     "execution_count": 49,
     "metadata": {},
     "output_type": "execute_result"
    },
    {
     "data": {
      "image/png": "[encoded data removed]",
      "text/plain": [
       "<Figure size 1008x504 with 1 Axes>"
      ]
     },
     "metadata": {},
     "output_type": "display_data"
    }
   ],
   "source": [
    "df8[\"Date\"].value_counts().nlargest(10).plot(kind='bar',color='orange',figsize=(14,7),fontsize=14, title = \"Which day did the most crimes occur on?\")"
   ]
  },
  {
   "cell_type": "code",
   "execution_count": 50,
   "metadata": {},
   "outputs": [
    {
     "data": {
      "text/plain": [
       "06/01/2002    1632\n",
       "01/01/2002    1587\n",
       "07/15/2002    1537\n",
       "07/20/2002    1527\n",
       "05/31/2002    1523\n",
       "08/01/2002    1510\n",
       "05/23/2002    1508\n",
       "07/10/2002    1500\n",
       "07/19/2002    1498\n",
       "07/12/2002    1490\n",
       "Name: Date, dtype: int64"
      ]
     },
     "execution_count": 50,
     "metadata": {},
     "output_type": "execute_result"
    }
   ],
   "source": [
    "df8[\"Date\"].value_counts().nlargest(10)"
   ]
  },
  {
   "cell_type": "code",
   "execution_count": 51,
   "metadata": {},
   "outputs": [
    {
     "data": {
      "text/plain": [
       "<matplotlib.axes._subplots.AxesSubplot at 0x14380c94e48>"
      ]
     },
     "execution_count": 51,
     "metadata": {},
     "output_type": "execute_result"
    },
    {
     "data": {
      "image/png": "[encoded data removed]",
      "text/plain": [
       "<Figure size 576x288 with 1 Axes>"
      ]
     },
     "metadata": {},
     "output_type": "display_data"
    }
   ],
   "source": [
    "df8[\"Arrest\"][df8[\"Location_Description\"] == 'STREET'].value_counts().plot(kind='bar',color='silver',figsize=(8,4),fontsize=12, title = 'Number of arrests made for crimes that took place on the street(True = arrest made, False = no arrest made)')"
   ]
  },
  {
   "cell_type": "markdown",
   "metadata": {},
   "source": [
    "This graph shows whether there were more arrest in residences due to domestic violence. Surprisingly there were not."
   ]
  },
  {
   "cell_type": "code",
   "execution_count": 52,
   "metadata": {},
   "outputs": [
    {
     "data": {
      "text/plain": [
       "<matplotlib.axes._subplots.AxesSubplot at 0x14380cbeba8>"
      ]
     },
     "execution_count": 52,
     "metadata": {},
     "output_type": "execute_result"
    },
    {
     "data": {
      "image/png": "[encoded data removed]",
      "text/plain": [
       "<Figure size 576x288 with 1 Axes>"
      ]
     },
     "metadata": {},
     "output_type": "display_data"
    }
   ],
   "source": [
    "df8[\"Domestic\"][df8[\"Location_Description\"] == 'RESIDENCE'].value_counts().plot(kind='bar',color='silver',figsize=(8,4),fontsize=12, title = \"In residences, where there more arrest than no arrest due to domestic voilence?\")"
   ]
  },
  {
   "cell_type": "markdown",
   "metadata": {},
   "source": [
    "Taking into account the default values I put in for community area(0.0), Community Area 25 is the worst area in terms of number of crimes. I filtered the dataset to see what years were particularly bad there. The past 3 calendar years and the most popular year all feature at the top, with 2018 the next one after them, presumably because 2018 is not complete yet"
   ]
  },
  {
   "cell_type": "code",
   "execution_count": 53,
   "metadata": {
    "collapsed": true
   },
   "outputs": [],
   "source": [
    "df33 = df8[df8[\"Community_Area\"] == 25]"
   ]
  },
  {
   "cell_type": "code",
   "execution_count": 54,
   "metadata": {},
   "outputs": [
    {
     "data": {
      "text/plain": [
       "<matplotlib.axes._subplots.AxesSubplot at 0x143937e7ac8>"
      ]
     },
     "execution_count": 54,
     "metadata": {},
     "output_type": "execute_result"
    },
    {
     "data": {
      "image/png": "[encoded data removed]",
      "text/plain": [
       "<Figure size 576x288 with 1 Axes>"
      ]
     },
     "metadata": {},
     "output_type": "display_data"
    }
   ],
   "source": [
    "df33[\"Year\"].value_counts().plot(kind='bar',color='navy',figsize=(8,4),fontsize=12, title = 'Which year was the worst year for crime in the worst community area overall(25)?')"
   ]
  },
  {
   "cell_type": "code",
   "execution_count": 55,
   "metadata": {
    "collapsed": true
   },
   "outputs": [],
   "source": [
    "df34 = df8[df8[\"Year\"] == 2017]"
   ]
  },
  {
   "cell_type": "code",
   "execution_count": 56,
   "metadata": {},
   "outputs": [
    {
     "data": {
      "text/plain": [
       "<matplotlib.axes._subplots.AxesSubplot at 0x14380da3160>"
      ]
     },
     "execution_count": 56,
     "metadata": {},
     "output_type": "execute_result"
    },
    {
     "data": {
      "image/png": "[encoded data removed]",
      "text/plain": [
       "<Figure size 576x288 with 1 Axes>"
      ]
     },
     "metadata": {},
     "output_type": "display_data"
    }
   ],
   "source": [
    "df34[\"District\"].value_counts().nlargest(15).plot(kind='bar',color='red',figsize=(8,4),fontsize=12, title = \"Which district had the most crimes in 2017?\")"
   ]
  },
  {
   "cell_type": "markdown",
   "metadata": {},
   "source": [
    "Conclusions: I felt that I found some very interesting insights with these graphs. Other questions for the dataset that would be interesting would be how the different types of crime occur in various places, and how the number of arrests in an area might change over a certain time period."
   ]
  },
  {
   "cell_type": "code",
   "execution_count": null,
   "metadata": {
    "collapsed": true
   },
   "outputs": [],
   "source": []
  }
 ],
 "metadata": {
  "kernelspec": {
   "display_name": "Python 3",
   "language": "python",
   "name": "python3"
  },
  "language_info": {
   "codemirror_mode": {
    "name": "ipython",
    "version": 3
   },
   "file_extension": ".py",
   "mimetype": "text/x-python",
   "name": "python",
   "nbconvert_exporter": "python",
   "pygments_lexer": "ipython3",
   "version": "3.6.3"
  }
 },
 "nbformat": 4,
 "nbformat_minor": 2
}
